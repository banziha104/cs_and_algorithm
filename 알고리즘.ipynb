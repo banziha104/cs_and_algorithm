{
 "cells": [
  {
   "cell_type": "markdown",
   "metadata": {
    "collapsed": true,
    "pycharm": {
     "name": "#%% md\n"
    }
   },
   "source": [
    "# 재귀 용법 (recursive call, 재귀 호출)\n",
    "\n",
    "- 함수 안에서 동일한 함수를 호출하는 형태\n",
    "- 재귀 호출의 일반적인 형태\n",
    "    ```python\n",
    "    def function(입력):\n",
    "        if 입력 > 일정값: #입력이 일정 값 이상 (조건)\n",
    "            return function(입력 -1) # 입력보다 작은 값\n",
    "        else:\n",
    "            return 일정값, 입력값 혹은 특정값 # 재귀 호출 종료\n",
    "\n",
    "    def function2(입력):\n",
    "        if 입력 <= 일정값:\n",
    "            return 일정값, 입력값 혹은 특정값\n",
    "        function2(입력보다 작은 값)\n",
    "        return 결과값\n",
    "    ```\n",
    "\n"
   ]
  },
  {
   "cell_type": "code",
   "execution_count": 44,
   "outputs": [
    {
     "name": "stdout",
     "output_type": "stream",
     "text": [
      "3\n",
      "10\n",
      "5.0\n",
      "16.0\n",
      "8.0\n",
      "4.0\n",
      "2.0\n",
      "끝\n"
     ]
    }
   ],
   "source": [
    "import random\n",
    "\n",
    "# 등비수열\n",
    "def multiple(data):\n",
    "    if data <= 1:\n",
    "        return data\n",
    "    return data * multiple(data - 1)\n",
    "\n",
    "# 등비수열 꼬리재귀 (코틀린 tailrec을 사용하기 위함)\n",
    "def multiple_tail(data, a = 1):\n",
    "    if data <= 1:\n",
    "        return a\n",
    "    return multiple_tail(data - 1, data * a)\n",
    "\n",
    "\n",
    "data_list = random.sample(range(100),30)\n",
    "data_list2 = [5,1,2,9]\n",
    "\n",
    "# 리스트 모든 숫자 더하기\n",
    "def sum_list(list,index=0):\n",
    "    if index == len(list) - 1:\n",
    "        return list[index]\n",
    "    return list[index] + sum_list(list, index + 1)\n",
    "\n",
    "# 리스트의 모든 숫자 더하기 (코틀린 tailrec을 사용하기 위함)\n",
    "def sum_list_tail(list,value = 0,index=0):\n",
    "    if index == len(list):\n",
    "        return value\n",
    "    return sum_list_tail(list,value + list[index],index+1)\n",
    "\n",
    "sum_list_tail(data_list2)\n",
    "# sum_list(data_list2)\n",
    "\n",
    "# 회문 판단\n",
    "string = 'l'\n",
    "string2 = 'levvel'\n",
    "\n",
    "\n",
    "def palindrome2(string):\n",
    "    if len(string) <= 1:\n",
    "        return True\n",
    "    if string[0] == string[-1]:\n",
    "        return palindrome2(string[1:-1])\n",
    "    else:\n",
    "        return False\n",
    "\n",
    "palindrome2(string2)\n",
    "\n",
    "# 정수 n에 대해 n이 홀수이면 3 * n + 1을하고\n",
    "# n이 짝수이면 n을 2로 나누고 n이 1일 될떄까지 반복\n",
    "\n",
    "def function1(n):\n",
    "    if n == 1:\n",
    "        print(\"끝\")\n",
    "        return\n",
    "    else:\n",
    "        print(n)\n",
    "        function1((n * 3) + 1 if n % 2 == 1 else n /2)\n",
    "function1(3)\n",
    "\n",
    "# 정수 n에 대해 1,2,3의 조합으로 나타내는 방법 찾기\n",
    "\n",
    "def function2(n):\n",
    "  if n == 1:\n",
    "      return 1\n",
    "  elif n == 2:\n",
    "      return 2\n",
    "  elif n == 3:\n",
    "      return 4\n",
    "  return function2(n-1) + function2(n-2) + function2(n-3)"
   ],
   "metadata": {
    "collapsed": false,
    "pycharm": {
     "name": "#%%\n"
    }
   }
  },
  {
   "cell_type": "markdown",
   "source": [
    "## 동적계획법(DP, Dynamic Programing)\n",
    "\n",
    "- 입력 크기가 작은 부분 문제들을 해결한 후, 해당 문제의 해를 활용해서, 보다 큰 크기의 부분 문제를 해결, 최종적으로 전체문제를 해결하는 알고리즘\n",
    "- 상향식 접근법으로, 가장 최하위 해답을 구한 후, 이를 저장하고, 해당 결과값을 이용해서 상위 문제를 풀어가는 방식\n",
    "- Memoization 기법 사용 :\n",
    "    - Memoization: 프로그램 실행 시 이전에 계산한 값을 저장하여, 다시 계산하지 않도록 하여 전체 실행 속도를 빠르게 하는 기술\n",
    "\n",
    "## 분할 정복\n",
    "\n",
    "- 문제를 나눌 수 없을떄까지 나누어서 각각을 풀면서 다시 합병하여 문제의 답을 얻는 알고리즘\n",
    "- 하향식 접근법으로 , 사우이의 해답을 구하기 위해, 아래로 내려가면서 하위의 해답을 구하는 방식\n",
    "    - 일반적으로 재귀함수로 구현\n",
    "_ 문제를 잘게 쪼갤때, 부분 문제는 서로 중복되지 않음\n",
    "\n",
    "## 공통점과 차이점\n",
    "\n",
    "- 공통점\n",
    "    - 문제를 잘게 쪼개서, 가장 작은 단윌 분할\n",
    "- 차이점\n",
    "    - 동적 계획법\n",
    "        - 부분 문제는 중복되어 사위 문제 해결시 재활용돔\n",
    "        - 메모이제이션 사용\n",
    "    - 분할 정복\n",
    "        - 부분 문제는 서로 중복되지 않음\n",
    "        - 메모제이션 사용안함\n"
   ],
   "metadata": {
    "collapsed": false,
    "pycharm": {
     "name": "#%% md\n"
    }
   }
  },
  {
   "cell_type": "code",
   "execution_count": 49,
   "outputs": [
    {
     "data": {
      "text/plain": "0"
     },
     "execution_count": 49,
     "metadata": {},
     "output_type": "execute_result"
    }
   ],
   "source": [
    "#  피보나치 수열\n",
    "\n",
    "def fibo(n):\n",
    "    if n <= 1 :\n",
    "        return n\n",
    "    else: fibo(n-1) + fibo(n-2)\n",
    "\n",
    "# 동적계획법 피보나치 수열\n",
    "def fibo_dp(n):\n",
    "    if n == 0:\n",
    "        return 0\n",
    "    cache = [0 for index in range(n +1)]\n",
    "    cache[0] = 0\n",
    "    cache[1] = 1\n",
    "    for index in range(2, n + 1):\n",
    "        cache[index] = cache[index -1] + cache[index -2]\n",
    "    return cache[n ]\n",
    "\n",
    "fibo_dp(0)"
   ],
   "metadata": {
    "collapsed": false,
    "pycharm": {
     "name": "#%%\n"
    }
   }
  },
  {
   "cell_type": "markdown",
   "source": [
    "## 이진 탐색\n",
    "\n",
    "- 탐색할 자료를 둘로 나누어 해당 데이터가 있을만한 곳을 탐색하는 방법\n",
    "- 술게임에 업다운과 비슷하다..?\n",
    "- $O(\\log n)$의 시간 복잡도를 가짐\n",
    "\n",
    "## 분할 정복 알고리즘과 이진 탐색\n",
    "\n",
    "- 분할 정복 알고리즘\n",
    "    - Divide 문제를 하나 또는 둘 이상으로 나눈다.\n",
    "    - Conquer : 나눠진 문제가 충분히 작고, 해결이 가능하면 해결하고, 그렇지 않다면 다시 나눈다.\n",
    "- 이진 탐색\n",
    "    - Divide : 리스트를 두개의 서브 리스트로 나눈다\n",
    "    -  Conquer\n",
    "        - 검색할 숫자 > 중간 값이면, 뒷 부분의 서브 리스트에서 검색할 숫자를 찾는다\n",
    "        - 검색할 숫자 < 중간 값 이면,앞 부분의 서브 리스트에서 검색할 숫자를 찾는다."
   ],
   "metadata": {
    "collapsed": false,
    "pycharm": {
     "name": "#%% md\n"
    }
   }
  },
  {
   "cell_type": "code",
   "execution_count": 10,
   "outputs": [],
   "source": [
    "import random\n",
    "def binary_search(data,search):\n",
    "    if len(data) == 1 and search == data[0]:\n",
    "        return True\n",
    "    if len(data) == 1 and search != data[0]:\n",
    "        return False\n",
    "    if len(data) == 0:\n",
    "        return False\n",
    "    medium = len(data) // 2\n",
    "    if search == data[medium]:\n",
    "        return True\n",
    "    else:\n",
    "        if search > data[medium]:\n",
    "            return binary_search(data[medium:],search)\n",
    "        else:\n",
    "            return binary_search(data[:medium],search)\n",
    "\n",
    "list = random.sample(range(100),11)\n",
    "list.sort()"
   ],
   "metadata": {
    "collapsed": false,
    "pycharm": {
     "name": "#%%\n"
    }
   }
  },
  {
   "cell_type": "markdown",
   "source": [
    "## 순차 탐색\n",
    "\n",
    "- 탐색은 여러 데이터 중에서 원하는 데이터를 찾아내는 것을 의미\n",
    "- 데이터가 담겨 있는 리스트를 앞에서부터 하나씩 비교해서 원하는 데이터를 찾는 방법\n",
    "- 시간 복잡도는 $O(n)$"
   ],
   "metadata": {
    "collapsed": false,
    "pycharm": {
     "name": "#%% md\n"
    }
   }
  },
  {
   "cell_type": "code",
   "execution_count": 12,
   "outputs": [
    {
     "data": {
      "text/plain": "[74, 66, 83, 29, 59, 33, 1, 15, 72, 27]"
     },
     "execution_count": 12,
     "metadata": {},
     "output_type": "execute_result"
    }
   ],
   "source": [
    "from random import *\n",
    "rand_data_list = []\n",
    "for num in range(10):\n",
    "    rand_data_list.append(randint(1,100))\n",
    "rand_data_list\n",
    "\n",
    "def sequencial(data_list, search_data):\n",
    "    for index in range(len(data_list)):\n",
    "        if data_list[index] == search_data:\n",
    "            return index\n",
    "    return -1\n"
   ],
   "metadata": {
    "collapsed": false,
    "pycharm": {
     "name": "#%%\n"
    }
   }
  },
  {
   "cell_type": "markdown",
   "source": [
    "### 1. 백 트래킹 (backtracking)\n",
    "- 백트래킹 (backtracking) 또는 퇴각 검색 (backtrack)으로 부름\n",
    "- 제약 조건 만족 문제 (Constraint Satisfaction Problem) 에서 해를 찾기 위한 전략\n",
    "  - 해를 찾기 위해, 후보군에 제약 조건을 점진적으로 체크하다가, 해당 후보군이 제약 조건을 만족할 수 없다고 판단되는 즉시 backtrack (다시는 이 후보군을 체크하지 않을 것을 표기)하고, 바로 다른 후보군으로 넘어가며, 결국 최적의 해를 찾는 방법\n",
    "- 실제 구현시, 고려할 수 있는 모든 경우의 수 (후보군)를 상태공간트리(State Space Tree)를 통해 표현\n",
    "  - 각 후보군을 DFS 방식으로 확인\n",
    "  - 상태 공간 트리를 탐색하면서, 제약이 맞지 않으면 해의 후보가 될만한 곳으로 바로 넘어가서 탐색\n",
    "    - Promising: 해당 루트가 조건에 맞는지를 검사하는 기법\n",
    "    - Pruning (가지치기): 조건에 맞지 않으면 포기하고 다른 루트로 바로 돌아서서, 탐색의 시간을 절약하는 기법\n",
    "\n",
    "> 즉, 백트래킹은 트리 구조를 기반으로 DFS로 깊이 탐색을 진행하면서 각 루트에 대해 조건에 부합하는지 체크(Promising), 만약 해당 트리(나무)에서 조건에 맞지않는 노드는 더 이상 DFS로 깊이 탐색을 진행하지 않고, 가지를 쳐버림 (Pruning)"
   ],
   "metadata": {
    "collapsed": false,
    "pycharm": {
     "name": "#%% md\n"
    }
   }
  },
  {
   "cell_type": "markdown",
   "source": [
    "### 상태 공간 트리 (State Space Tree)\n",
    "- 문제 해결 과정의 중간 상태를 각각의 노드로 나타낸 트리\n",
    "<img src=\"https://www.fun-coding.org/00_Images/statespacetree.png\" width=300>\n"
   ],
   "metadata": {
    "collapsed": false
   }
  },
  {
   "cell_type": "code",
   "execution_count": 50,
   "outputs": [
    {
     "ename": "TypeError",
     "evalue": "unsupported operand type(s) for -: 'list' and 'int'",
     "output_type": "error",
     "traceback": [
      "\u001B[0;31m---------------------------------------------------------------------------\u001B[0m",
      "\u001B[0;31mTypeError\u001B[0m                                 Traceback (most recent call last)",
      "\u001B[0;32m<ipython-input-50-9636fb74a92f>\u001B[0m in \u001B[0;36m<module>\u001B[0;34m\u001B[0m\n\u001B[1;32m     22\u001B[0m     \u001B[0;32mreturn\u001B[0m \u001B[0mfinal_result\u001B[0m\u001B[0;34m\u001B[0m\u001B[0;34m\u001B[0m\u001B[0m\n\u001B[1;32m     23\u001B[0m \u001B[0;34m\u001B[0m\u001B[0m\n\u001B[0;32m---> 24\u001B[0;31m \u001B[0msolve_n_queens\u001B[0m\u001B[0;34m(\u001B[0m\u001B[0;36m4\u001B[0m\u001B[0;34m)\u001B[0m\u001B[0;34m\u001B[0m\u001B[0;34m\u001B[0m\u001B[0m\n\u001B[0m",
      "\u001B[0;32m<ipython-input-50-9636fb74a92f>\u001B[0m in \u001B[0;36msolve_n_queens\u001B[0;34m(n)\u001B[0m\n\u001B[1;32m     19\u001B[0m \u001B[0;32mdef\u001B[0m \u001B[0msolve_n_queens\u001B[0m\u001B[0;34m(\u001B[0m\u001B[0mn\u001B[0m\u001B[0;34m)\u001B[0m\u001B[0;34m:\u001B[0m\u001B[0;34m\u001B[0m\u001B[0;34m\u001B[0m\u001B[0m\n\u001B[1;32m     20\u001B[0m     \u001B[0mfinal_result\u001B[0m \u001B[0;34m=\u001B[0m\u001B[0;34m[\u001B[0m\u001B[0;34m]\u001B[0m\u001B[0;34m\u001B[0m\u001B[0;34m\u001B[0m\u001B[0m\n\u001B[0;32m---> 21\u001B[0;31m     \u001B[0mdfs\u001B[0m\u001B[0;34m(\u001B[0m\u001B[0mn\u001B[0m\u001B[0;34m,\u001B[0m\u001B[0;36m0\u001B[0m\u001B[0;34m,\u001B[0m\u001B[0;34m[\u001B[0m\u001B[0;34m]\u001B[0m\u001B[0;34m,\u001B[0m\u001B[0mfinal_result\u001B[0m\u001B[0;34m)\u001B[0m\u001B[0;34m\u001B[0m\u001B[0;34m\u001B[0m\u001B[0m\n\u001B[0m\u001B[1;32m     22\u001B[0m     \u001B[0;32mreturn\u001B[0m \u001B[0mfinal_result\u001B[0m\u001B[0;34m\u001B[0m\u001B[0;34m\u001B[0m\u001B[0m\n\u001B[1;32m     23\u001B[0m \u001B[0;34m\u001B[0m\u001B[0m\n",
      "\u001B[0;32m<ipython-input-50-9636fb74a92f>\u001B[0m in \u001B[0;36mdfs\u001B[0;34m(n, current_row, current_candidate, final_result)\u001B[0m\n\u001B[1;32m     14\u001B[0m         \u001B[0;32mif\u001B[0m \u001B[0mis_available\u001B[0m\u001B[0;34m(\u001B[0m\u001B[0mcurrent_candidate\u001B[0m\u001B[0;34m,\u001B[0m\u001B[0mcandidate_col\u001B[0m\u001B[0;34m)\u001B[0m\u001B[0;34m:\u001B[0m\u001B[0;34m\u001B[0m\u001B[0;34m\u001B[0m\u001B[0m\n\u001B[1;32m     15\u001B[0m             \u001B[0mcurrent_candidate\u001B[0m\u001B[0;34m.\u001B[0m\u001B[0mappend\u001B[0m\u001B[0;34m(\u001B[0m\u001B[0mcurrent_candidate\u001B[0m\u001B[0;34m[\u001B[0m\u001B[0;34m:\u001B[0m\u001B[0;34m]\u001B[0m\u001B[0;34m)\u001B[0m\u001B[0;34m\u001B[0m\u001B[0;34m\u001B[0m\u001B[0m\n\u001B[0;32m---> 16\u001B[0;31m             \u001B[0mdfs\u001B[0m\u001B[0;34m(\u001B[0m\u001B[0mn\u001B[0m\u001B[0;34m,\u001B[0m\u001B[0mcurrent_row\u001B[0m \u001B[0;34m+\u001B[0m\u001B[0;36m1\u001B[0m\u001B[0;34m,\u001B[0m \u001B[0mcurrent_candidate\u001B[0m\u001B[0;34m,\u001B[0m\u001B[0mfinal_result\u001B[0m\u001B[0;34m)\u001B[0m\u001B[0;34m\u001B[0m\u001B[0;34m\u001B[0m\u001B[0m\n\u001B[0m\u001B[1;32m     17\u001B[0m             \u001B[0mcurrent_candidate\u001B[0m\u001B[0;34m.\u001B[0m\u001B[0mpop\u001B[0m\u001B[0;34m(\u001B[0m\u001B[0;34m)\u001B[0m\u001B[0;34m\u001B[0m\u001B[0;34m\u001B[0m\u001B[0m\n\u001B[1;32m     18\u001B[0m \u001B[0;34m\u001B[0m\u001B[0m\n",
      "\u001B[0;32m<ipython-input-50-9636fb74a92f>\u001B[0m in \u001B[0;36mdfs\u001B[0;34m(n, current_row, current_candidate, final_result)\u001B[0m\n\u001B[1;32m     12\u001B[0m         \u001B[0;32mreturn\u001B[0m\u001B[0;34m\u001B[0m\u001B[0;34m\u001B[0m\u001B[0m\n\u001B[1;32m     13\u001B[0m     \u001B[0;32mfor\u001B[0m \u001B[0mcandidate_col\u001B[0m \u001B[0;32min\u001B[0m \u001B[0mrange\u001B[0m\u001B[0;34m(\u001B[0m\u001B[0mn\u001B[0m\u001B[0;34m)\u001B[0m\u001B[0;34m:\u001B[0m\u001B[0;34m\u001B[0m\u001B[0;34m\u001B[0m\u001B[0m\n\u001B[0;32m---> 14\u001B[0;31m         \u001B[0;32mif\u001B[0m \u001B[0mis_available\u001B[0m\u001B[0;34m(\u001B[0m\u001B[0mcurrent_candidate\u001B[0m\u001B[0;34m,\u001B[0m\u001B[0mcandidate_col\u001B[0m\u001B[0;34m)\u001B[0m\u001B[0;34m:\u001B[0m\u001B[0;34m\u001B[0m\u001B[0;34m\u001B[0m\u001B[0m\n\u001B[0m\u001B[1;32m     15\u001B[0m             \u001B[0mcurrent_candidate\u001B[0m\u001B[0;34m.\u001B[0m\u001B[0mappend\u001B[0m\u001B[0;34m(\u001B[0m\u001B[0mcurrent_candidate\u001B[0m\u001B[0;34m[\u001B[0m\u001B[0;34m:\u001B[0m\u001B[0;34m]\u001B[0m\u001B[0;34m)\u001B[0m\u001B[0;34m\u001B[0m\u001B[0;34m\u001B[0m\u001B[0m\n\u001B[1;32m     16\u001B[0m             \u001B[0mdfs\u001B[0m\u001B[0;34m(\u001B[0m\u001B[0mn\u001B[0m\u001B[0;34m,\u001B[0m\u001B[0mcurrent_row\u001B[0m \u001B[0;34m+\u001B[0m\u001B[0;36m1\u001B[0m\u001B[0;34m,\u001B[0m \u001B[0mcurrent_candidate\u001B[0m\u001B[0;34m,\u001B[0m\u001B[0mfinal_result\u001B[0m\u001B[0;34m)\u001B[0m\u001B[0;34m\u001B[0m\u001B[0;34m\u001B[0m\u001B[0m\n",
      "\u001B[0;32m<ipython-input-50-9636fb74a92f>\u001B[0m in \u001B[0;36mis_available\u001B[0;34m(candidate, current_col)\u001B[0m\n\u001B[1;32m      2\u001B[0m     \u001B[0mcurrent_row\u001B[0m \u001B[0;34m=\u001B[0m \u001B[0mlen\u001B[0m\u001B[0;34m(\u001B[0m\u001B[0mcandidate\u001B[0m\u001B[0;34m)\u001B[0m\u001B[0;34m\u001B[0m\u001B[0;34m\u001B[0m\u001B[0m\n\u001B[1;32m      3\u001B[0m     \u001B[0;32mfor\u001B[0m \u001B[0mqueen_row\u001B[0m \u001B[0;32min\u001B[0m \u001B[0mrange\u001B[0m\u001B[0;34m(\u001B[0m\u001B[0mcurrent_row\u001B[0m\u001B[0;34m)\u001B[0m\u001B[0;34m:\u001B[0m\u001B[0;34m\u001B[0m\u001B[0;34m\u001B[0m\u001B[0m\n\u001B[0;32m----> 4\u001B[0;31m         \u001B[0;32mif\u001B[0m \u001B[0mcandidate\u001B[0m\u001B[0;34m[\u001B[0m\u001B[0mqueen_row\u001B[0m\u001B[0;34m]\u001B[0m \u001B[0;34m==\u001B[0m \u001B[0mcurrent_col\u001B[0m \u001B[0;32mor\u001B[0m \u001B[0mabs\u001B[0m\u001B[0;34m(\u001B[0m\u001B[0mcandidate\u001B[0m\u001B[0;34m[\u001B[0m\u001B[0mqueen_row\u001B[0m\u001B[0;34m]\u001B[0m \u001B[0;34m-\u001B[0m \u001B[0mcurrent_col\u001B[0m\u001B[0;34m)\u001B[0m \u001B[0;34m==\u001B[0m \u001B[0mcurrent_row\u001B[0m \u001B[0;34m-\u001B[0m \u001B[0mqueen_row\u001B[0m\u001B[0;34m:\u001B[0m\u001B[0;34m\u001B[0m\u001B[0;34m\u001B[0m\u001B[0m\n\u001B[0m\u001B[1;32m      5\u001B[0m             \u001B[0;32mreturn\u001B[0m \u001B[0;32mFalse\u001B[0m\u001B[0;34m\u001B[0m\u001B[0;34m\u001B[0m\u001B[0m\n\u001B[1;32m      6\u001B[0m     \u001B[0;32mreturn\u001B[0m \u001B[0;32mTrue\u001B[0m\u001B[0;34m\u001B[0m\u001B[0;34m\u001B[0m\u001B[0m\n",
      "\u001B[0;31mTypeError\u001B[0m: unsupported operand type(s) for -: 'list' and 'int'"
     ]
    }
   ],
   "source": [
    "def is_available(candidate, current_col):\n",
    "    current_row = len(candidate)\n",
    "    for queen_row in range(current_row):\n",
    "        if candidate[queen_row] == current_col or abs(candidate[queen_row] - current_col) == current_row - queen_row:\n",
    "            return False\n",
    "    return True\n",
    "\n",
    "\n",
    "def dfs(n,current_row,current_candidate,final_result):\n",
    "    if current_row == n:\n",
    "        final_result.append(current_candidate)\n",
    "        return\n",
    "    for candidate_col in range(n):\n",
    "        if is_available(current_candidate,candidate_col):\n",
    "            current_candidate.append(current_candidate[:])\n",
    "            dfs(n,current_row +1, current_candidate,final_result)\n",
    "            current_candidate.pop()\n",
    "\n",
    "def solve_n_queens(n):\n",
    "    final_result =[]\n",
    "    dfs(n,0,[],final_result)\n",
    "    return final_result\n",
    "\n",
    "solve_n_queens(4)\n",
    "\n",
    "test_case = int(input())\n",
    "\n",
    "for _ in range(test_case):\n",
    "    left_stack = []\n",
    "    right_stack = []\n",
    "    data = input()\n",
    "    for i in data:\n",
    "        if i == '-':\n",
    "            if left_stack:\n",
    "                left_stack.pop()\n",
    "        elif i == '<':\n",
    "            if left_stack:\n",
    "                right_stack.append(left_stack.pop())\n",
    "        elif i == '>':\n",
    "            if right_stack:\n",
    "                left_stack.append(right_stack.pop())\n",
    "        else:\n",
    "            left_stack.append(i)\n",
    "    left_stack.extend(reversed(right_stack))\n",
    "    print(''.join(left_stack))\n",
    "\n",
    "n = int(input())\n",
    "array = set(map(int,input().split()))\n",
    "m = int(input())\n",
    "x = list(map(int,input().split()))\n",
    "for i in x:\n",
    "    if i not in array:\n",
    "        print('0')\n",
    "    else:\n",
    "        print('1')"
   ],
   "metadata": {
    "collapsed": false,
    "pycharm": {
     "name": "#%%\n"
    }
   }
  },
  {
   "cell_type": "code",
   "execution_count": null,
   "outputs": [],
   "source": [],
   "metadata": {
    "collapsed": false,
    "pycharm": {
     "name": "#%%\n"
    }
   }
  }
 ],
 "metadata": {
  "kernelspec": {
   "display_name": "Python 3",
   "language": "python",
   "name": "python3"
  },
  "language_info": {
   "codemirror_mode": {
    "name": "ipython",
    "version": 2
   },
   "file_extension": ".py",
   "mimetype": "text/x-python",
   "name": "python",
   "nbconvert_exporter": "python",
   "pygments_lexer": "ipython2",
   "version": "2.7.6"
  }
 },
 "nbformat": 4,
 "nbformat_minor": 0
}