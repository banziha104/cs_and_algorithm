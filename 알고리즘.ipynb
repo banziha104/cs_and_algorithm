{
 "cells": [
  {
   "cell_type": "markdown",
   "metadata": {
    "collapsed": true,
    "pycharm": {
     "name": "#%% md\n"
    }
   },
   "source": [
    "# 재귀 용법 (recursive call, 재귀 호출)\n",
    "\n",
    "- 함수 안에서 동일한 함수를 호출하는 형태\n",
    "- 재귀 호출의 일반적인 형태\n",
    "    ```python\n",
    "    def function(입력):\n",
    "        if 입력 > 일정값: #입력이 일정 값 이상 (조건)\n",
    "            return function(입력 -1) # 입력보다 작은 값\n",
    "        else:\n",
    "            return 일정값, 입력값 혹은 특정값 # 재귀 호출 종료\n",
    "\n",
    "    def function2(입력):\n",
    "        if 입력 <= 일정값:\n",
    "            return 일정값, 입력값 혹은 특정값\n",
    "        function2(입력보다 작은 값)\n",
    "        return 결과값\n",
    "    ```\n",
    "\n"
   ]
  },
  {
   "cell_type": "code",
   "execution_count": 44,
   "outputs": [
    {
     "name": "stdout",
     "output_type": "stream",
     "text": [
      "3\n",
      "10\n",
      "5.0\n",
      "16.0\n",
      "8.0\n",
      "4.0\n",
      "2.0\n",
      "끝\n"
     ]
    }
   ],
   "source": [
    "import random\n",
    "\n",
    "# 등비수열\n",
    "def multiple(data):\n",
    "    if data <= 1:\n",
    "        return data\n",
    "    return data * multiple(data - 1)\n",
    "\n",
    "# 등비수열 꼬리재귀 (코틀린 tailrec을 사용하기 위함)\n",
    "def multiple_tail(data, a = 1):\n",
    "    if data <= 1:\n",
    "        return a\n",
    "    return multiple_tail(data - 1, data * a)\n",
    "\n",
    "\n",
    "data_list = random.sample(range(100),30)\n",
    "data_list2 = [5,1,2,9]\n",
    "\n",
    "# 리스트 모든 숫자 더하기\n",
    "def sum_list(list,index=0):\n",
    "    if index == len(list) - 1:\n",
    "        return list[index]\n",
    "    return list[index] + sum_list(list, index + 1)\n",
    "\n",
    "# 리스트의 모든 숫자 더하기 (코틀린 tailrec을 사용하기 위함)\n",
    "def sum_list_tail(list,value = 0,index=0):\n",
    "    if index == len(list):\n",
    "        return value\n",
    "    return sum_list_tail(list,value + list[index],index+1)\n",
    "\n",
    "sum_list_tail(data_list2)\n",
    "# sum_list(data_list2)\n",
    "\n",
    "# 회문 판단\n",
    "string = 'l'\n",
    "string2 = 'levvel'\n",
    "\n",
    "\n",
    "def palindrome2(string):\n",
    "    if len(string) <= 1:\n",
    "        return True\n",
    "    if string[0] == string[-1]:\n",
    "        return palindrome2(string[1:-1])\n",
    "    else:\n",
    "        return False\n",
    "\n",
    "palindrome2(string2)\n",
    "\n",
    "# 정수 n에 대해 n이 홀수이면 3 * n + 1을하고\n",
    "# n이 짝수이면 n을 2로 나누고 n이 1일 될떄까지 반복\n",
    "\n",
    "def function1(n):\n",
    "    if n == 1:\n",
    "        print(\"끝\")\n",
    "        return\n",
    "    else:\n",
    "        print(n)\n",
    "        function1((n * 3) + 1 if n % 2 == 1 else n /2)\n",
    "function1(3)\n",
    "\n",
    "# 정수 n에 대해 1,2,3의 조합으로 나타내는 방법 찾기\n",
    "\n",
    "def function2(n):\n",
    "  if n == 1:\n",
    "      return 1\n",
    "  elif n == 2:\n",
    "      return 2\n",
    "  elif n == 3:\n",
    "      return 4\n",
    "  return function2(n-1) + function2(n-2) + function2(n-3)"
   ],
   "metadata": {
    "collapsed": false,
    "pycharm": {
     "name": "#%%\n"
    }
   }
  },
  {
   "cell_type": "markdown",
   "source": [
    "## 동적계획법(DP, Dynamic Programing)\n",
    "\n",
    "- 입력 크기가 작은 부분 문제들을 해결한 후, 해당 문제의 해를 활용해서, 보다 큰 크기의 부분 문제를 해결, 최종적으로 전체문제를 해결하는 알고리즘\n",
    "- 상향식 접근법으로, 가장 최하위 해답을 구한 후, 이를 저장하고, 해당 결과값을 이용해서 상위 문제를 풀어가는 방식\n",
    "- Memoization 기법 사용 :\n",
    "    - Memoization: 프로그램 실행 시 이전에 계산한 값을 저장하여, 다시 계산하지 않도록 하여 전체 실행 속도를 빠르게 하는 기술\n",
    "\n",
    "## 분할 정복\n",
    "\n",
    "- 문제를 나눌 수 없을떄까지 나누어서 각각을 풀면서 다시 합병하여 문제의 답을 얻는 알고리즘\n",
    "- 하향식 접근법으로 , 사우이의 해답을 구하기 위해, 아래로 내려가면서 하위의 해답을 구하는 방식\n",
    "    - 일반적으로 재귀함수로 구현\n",
    "_ 문제를 잘게 쪼갤때, 부분 문제는 서로 중복되지 않음\n",
    "\n",
    "## 공통점과 차이점\n",
    "\n",
    "- 공통점\n",
    "    - 문제를 잘게 쪼개서, 가장 작은 단윌 분할\n",
    "- 차이점\n",
    "    - 동적 계획법\n",
    "        - 부분 문제는 중복되어 사위 문제 해결시 재활용돔\n",
    "        - 메모이제이션 사용\n",
    "    - 분할 정복\n",
    "        - 부분 문제는 서로 중복되지 않음\n",
    "        - 메모제이션 사용안함\n"
   ],
   "metadata": {
    "collapsed": false,
    "pycharm": {
     "name": "#%% md\n"
    }
   }
  },
  {
   "cell_type": "code",
   "execution_count": 49,
   "outputs": [
    {
     "data": {
      "text/plain": "0"
     },
     "execution_count": 49,
     "metadata": {},
     "output_type": "execute_result"
    }
   ],
   "source": [
    "#  피보나치 수열\n",
    "\n",
    "def fibo(n):\n",
    "    if n <= 1 :\n",
    "        return n\n",
    "    else: fibo(n-1) + fibo(n-2)\n",
    "\n",
    "# 동적계획법 피보나치 수열\n",
    "def fibo_dp(n):\n",
    "    if n == 0:\n",
    "        return 0\n",
    "    cache = [0 for index in range(n +1)]\n",
    "    cache[0] = 0\n",
    "    cache[1] = 1\n",
    "    for index in range(2, n + 1):\n",
    "        cache[index] = cache[index -1] + cache[index -2]\n",
    "    return cache[n ]\n",
    "\n",
    "fibo_dp(0)"
   ],
   "metadata": {
    "collapsed": false,
    "pycharm": {
     "name": "#%%\n"
    }
   }
  },
  {
   "cell_type": "markdown",
   "source": [
    "## 이진 탐색\n",
    "\n",
    "- 탐색할 자료를 둘로 나누어 해당 데이터가 있을만한 곳을 탐색하는 방법\n",
    "- 술게임에 업다운과 비슷하다..?\n",
    "\n",
    "## 분할 정복 알고리즘과 이진 탐색\n",
    "\n",
    "- 분할 정복 알고리즘\n",
    "    - Divide 문제를 하나 또는 둘 이상으로 나눈다.\n",
    "    - Conquer : 나눠진 문제가 충분히 작고, 해결이 가능하면 해결하고, 그렇지 않다면 다시 나눈다.\n",
    "- 이진 탐색\n",
    "    - Divide : 리스트를 두개의 서브 리스트로 나눈다\n",
    "    -  Conquer\n",
    "        - 검색할 숫자 > 중간 값이면, 뒷 부분의 서브 리스트에서 검색할 숫자를 찾는다\n",
    "        - 검색할 숫자 < 중간 값 이면,앞 부분의 서브 리스트에서 검색할 숫자를 찾는다.\n"
   ],
   "metadata": {
    "collapsed": false,
    "pycharm": {
     "name": "#%% md\n"
    }
   }
  }
 ],
 "metadata": {
  "kernelspec": {
   "display_name": "Python 3",
   "language": "python",
   "name": "python3"
  },
  "language_info": {
   "codemirror_mode": {
    "name": "ipython",
    "version": 2
   },
   "file_extension": ".py",
   "mimetype": "text/x-python",
   "name": "python",
   "nbconvert_exporter": "python",
   "pygments_lexer": "ipython2",
   "version": "2.7.6"
  }
 },
 "nbformat": 4,
 "nbformat_minor": 0
}