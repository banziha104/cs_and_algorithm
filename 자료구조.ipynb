{
 "cells": [
  {
   "cell_type": "markdown",
   "metadata": {
    "pycharm": {
     "name": "#%% md\n"
    }
   },
   "source": [
    "## 링크드 리스트"
   ]
  },
  {
   "cell_type": "code",
   "execution_count": 22,
   "metadata": {
    "pycharm": {
     "name": "#%%\n"
    }
   },
   "outputs": [],
   "source": [
    "class Node:\n",
    "    def __init__(self,data,next=None):\n",
    "        self.data = data\n",
    "        self.next = next\n",
    "\n",
    "class NodeManager:\n",
    "    def __init__(self,data):\n",
    "        self.head = Node(data)\n",
    "\n",
    "    def add(self,data):\n",
    "        if self.head == '':\n",
    "            self.head = Node(data)\n",
    "        else:\n",
    "            node = self.head\n",
    "            while node.next:\n",
    "                node = node.next\n",
    "            node.next = Node(data)\n",
    "\n",
    "    def delete(self,data):\n",
    "        if self.head == '':\n",
    "            print(\"빈 리스트\")\n",
    "            return\n",
    "        if self.head.data == data:\n",
    "            temp = self.head\n",
    "            self.head = self.head.next\n",
    "        else:\n",
    "            node = self.head\n",
    "            while node.next:\n",
    "                if node.next.data == data:\n",
    "                    temp = node.next\n",
    "                    node.next = node.next.next\n",
    "                    del temp\n",
    "                else:\n",
    "                    node = node.next\n",
    "\n",
    "    def desc(self): # 순회\n",
    "        node = self.head\n",
    "        while node:\n",
    "            print(node.data)\n",
    "            node = node.next\n"
   ]
  },
  {
   "cell_type": "code",
   "execution_count": 23,
   "metadata": {
    "pycharm": {
     "name": "#%%\n"
    }
   },
   "outputs": [
    {
     "name": "stdout",
     "output_type": "stream",
     "text": [
      "0\n",
      "0\n",
      "1\n",
      "2\n",
      "3\n",
      "4\n",
      "5\n",
      "6\n",
      "7\n",
      "8\n",
      "9\n"
     ]
    }
   ],
   "source": [
    "linked_list_1 = NodeManager(0)\n",
    "linked_list_1.desc()\n",
    "\n",
    "for data in range(1,10):\n",
    "    linked_list_1.add(data)\n",
    "\n",
    "linked_list_1.desc()"
   ]
  },
  {
   "cell_type": "code",
   "execution_count": 23,
   "metadata": {
    "pycharm": {
     "name": "#%%\n"
    }
   },
   "outputs": [],
   "source": []
  },
  {
   "cell_type": "code",
   "execution_count": 24,
   "metadata": {
    "pycharm": {
     "name": "#%%\n"
    }
   },
   "outputs": [
    {
     "name": "stdout",
     "output_type": "stream",
     "text": [
      "0\n",
      "1\n",
      "3\n",
      "4\n",
      "5\n",
      "6\n",
      "7\n",
      "8\n",
      "9\n"
     ]
    }
   ],
   "source": [
    "linked_list_1.delete(2)\n",
    "linked_list_1.desc()"
   ]
  },
  {
   "cell_type": "markdown",
   "metadata": {
    "pycharm": {
     "name": "#%% md\n"
    }
   },
   "source": [
    "### 해쉬테이블\n",
    "\n",
    "- 해쉬 : 임의 값을 고정 길이로 변환하는것\n",
    "- 해쉬 테이블 : 키 값의 연산에 의해 직접 접근이 가능한 데이터 구조\n",
    "- 해싱함수 : Key에 대해 산술 연산을 이용해 데이터의 위치를 찾는 함수\n",
    "- 해쉬값, 해쉬주소 : Key를 해싱함수로 연산해서 해쉬값을 알아내고 이를 기반으로 해쉬테이블에서 해당 Key에 대한 데이터 위치를 일관성 있게 찾을 수 있음.\n",
    "- 슬롯 : 한 개의 데이터를 저장할 수 있는 공간\n",
    "\n",
    "#### 해쉬테이블 충돌 해결 알고리즘\n",
    "\n",
    "- Chaining 기법 \n",
    "    - 개방 해슁 또는 Open Hashing 기법 중 하나: 해쉬 테이블 저장공간 외의 공가늘 활용하는 기법\n",
    "    - 충돌이 일어나면, 링크드 리스트라는 자료구조를 사용해서 링크드 리스트로 데이터를 추가로 뒤에 연결시켜서 저장하는 기법\n",
    "- Linear Probing 기법\n",
    "    - 폐쇄 해슁 또는 Close Hashing 기법 : 해쉬 테이블 저장공간 안에서 충돌 문제를 해결하는 기법\n",
    "    - 충돌이 일어나면 해당 hash_address 안에 다음에 빈 공간에 저장 \n",
    "\n",
    "#### 해쉬 함수와 키 생성 함수\n",
    "- 파이썬의 hash() 함수는 실행할때 마다 값이 달라질 수 있음\n",
    "- 유명한 해쉬 알고리즘 SHA(Secure Hash Algorithm, 안전한 해시 알고리즘)\n",
    "    - 어떤 데이터도 유일한 고정된 크기의 고정값을 리턴해주므로, 해쉬 함수로 유용하게 활용 가능\n",
    "    - SHA-1\n",
    "    - SHA-256\n",
    "\n",
    "#### 시간 복잡도\n",
    "- 일반적인 경우(충돌이 없는 경우)는 $O(1)$\n",
    "- 최악의 경우(충돌이 모두 발생하는 경우)는 $O(n)$"
   ]
  },
  {
   "cell_type": "code",
   "execution_count": 25,
   "metadata": {
    "pycharm": {
     "name": "#%%\n"
    }
   },
   "outputs": [
    {
     "data": {
      "text/plain": [
       "'01011111111'"
      ]
     },
     "execution_count": 25,
     "metadata": {},
     "output_type": "execute_result"
    }
   ],
   "source": [
    "# 해시 테이블 생성 \n",
    "hash_table = list([ 0 for i in range(10)])\n",
    "hash_table\n",
    "\n",
    "# 해시 함수 생성 (Division 기법)\n",
    "def hash_func(key):\n",
    "    return key % 5\n",
    "\n",
    "\n",
    "# 데이터를 저장하는 함수\n",
    "def storage_data(data,value):   \n",
    "    # ord() : 문자의 아스키 코드를 리턴\n",
    "    key = ord(data[0])\n",
    "    hash_address = hash_func(key)\n",
    "    hash_table[hash_address] = value\n",
    "    \n",
    "# 데이터를 가져오는 함수\n",
    "\n",
    "def get_data(data):\n",
    "    key = ord(data[0])\n",
    "    hash_address = hash_func(key)\n",
    "    return hash_table[hash_address]\n",
    "    \n",
    "data1 = 'Andy'\n",
    "data2 = 'Dave'\n",
    "data3 = 'Trump'\n",
    "\n",
    "storage_data('Andy','01011111111')\n",
    "storage_data('Dave','01022222222')\n",
    "storage_data('Trump','01033333333')\n",
    "\n",
    "\n",
    "get_data('Andy')\n"
   ]
  },
  {
   "cell_type": "code",
   "execution_count": 37,
   "metadata": {
    "pycharm": {
     "name": "#%%\n"
    }
   },
   "outputs": [],
   "source": [
    "hash_table = list([ 0 for i in range(8)])\n",
    "def get_key(data):\n",
    "    return hash(data)\n",
    "\n",
    "def hash_function(key):\n",
    "    return key % 8\n",
    "\n",
    "def save_data(data,value):\n",
    "    hash_address = hash_function(get_key(data))\n",
    "    hash_table[hash_address] = value\n",
    "\n",
    "def read_data(data):\n",
    "    hash_address = hash_function(get_key(data))\n",
    "    return hash_table[hash_address]\n",
    "\n",
    "save_data('Andy','01011111111')\n",
    "save_data('Dave','01022222222')\n",
    "save_data('Trump','01033333333')\n",
    "\n",
    "read_data('Dave')\n",
    "    "
   ]
  },
  {
   "cell_type": "code",
   "execution_count": 44,
   "metadata": {},
   "outputs": [],
   "source": [
    "# Chaining 기법을 이용해 충돌 해결 (Open Hashing)\n",
    "\n",
    "hash_table = list([ 0 for i in range(8)])\n",
    "def save_data(data,value):\n",
    "    index_key = get_key(data)\n",
    "    hash_address = hash_function(index_key)\n",
    "    if hash_table[hash_address] != 0:\n",
    "        for index in range(len(hash_table[hash_address])):\n",
    "            if hash_table[hash_address][index][0] == index_key:\n",
    "                hash_table[hash_address][index][1] = value\n",
    "                return\n",
    "        hash_table[hash_address].append([index_key,value])\n",
    "    else:\n",
    "        hash_table[hash_address] = [[index_key,value]]\n",
    "\n",
    "def read_data(data):\n",
    "    index_key = get_key(data)\n",
    "    hash_address = hash_function(index_key)\n",
    "    if hash_table [hash_address] != 0:\n",
    "        for index in range(len(hash_table[hash_address])):\n",
    "            if hash_table[hash_address][index][0] == index_key:\n",
    "                return hash_table[hash_address][index][1]\n",
    "        return None\n",
    "    else:\n",
    "        return None"
   ]
  },
  {
   "cell_type": "code",
   "execution_count": 45,
   "metadata": {
    "pycharm": {
     "name": "#%%\n"
    }
   },
   "outputs": [
    {
     "data": {
      "text/plain": [
       "[0,\n",
       " 0,\n",
       " 0,\n",
       " [[-6984268596351374285, '01011111111']],\n",
       " 0,\n",
       " 0,\n",
       " 0,\n",
       " [[-1384419812403679481, '01022222222']]]"
      ]
     },
     "execution_count": 45,
     "metadata": {},
     "output_type": "execute_result"
    }
   ],
   "source": [
    "save_data('Db','01011111111')\n",
    "save_data('Data','01022222222')\n",
    "\n",
    "read_data('Db')\n",
    "\n",
    "hash_table"
   ]
  },
  {
   "cell_type": "code",
   "execution_count": 28,
   "metadata": {},
   "outputs": [],
   "source": [
    "# Linear Probing 기법 (Close Hahsing)\n",
    "hash_table = list([ 0 for i in range(8)])\n",
    "def save_data(data,value):\n",
    "    index_key = get_key(data)\n",
    "    hash_address = hash_function(index_key)\n",
    "    if hash_table[hash_address] != 0:\n",
    "        for index in range(hash_address,len(hash_table)):\n",
    "            if hash_table[index] == 0:\n",
    "                hash_table[index] = [index_key,value]\n",
    "                return\n",
    "            elif hash_table[index][0] == index_key: # 만약 동일한 키가 있는데, 값이 다를 경우, 업데이트 구문\n",
    "                hash_table[index][1] = value\n",
    "                return\n",
    "    else:\n",
    "        hash_table[hash_address] = [[index_key,value]]\n",
    "\n",
    "def read_data(data):\n",
    "    index_key = get_key(data)\n",
    "    hash_address = hash_function(index_key)\n",
    "    if hash_table[hash_address] != 0:\n",
    "        for index in range(hash_address,len(hash_table)):\n",
    "            if hash_table == 0:\n",
    "                return None\n",
    "            elif hash_table[index][0] == index_key:\n",
    "                return hash_table[index][1]"
   ]
  },
  {
   "cell_type": "markdown",
   "metadata": {
    "pycharm": {
     "name": "#%% md\n"
    }
   },
   "source": [
    "## 트리\n",
    "\n",
    "1. 트리(Tree) 구조\n",
    "    - 트리 : Node와 Branch를 이용해서, 사이클을 이루지 않도록 구성한 데이터구조\n",
    "    - 자주 사용되는 트리\n",
    "        - 이진 트리 형태의 구조로 탐색 알고리즘 구현을 위해 많이 사용됨\n",
    "2. 용어\n",
    "    - Node : 트리에서 데이터를 저장하는 기본 요소(다른 연결된 노드에 대한 Branch 정보 포함)\n",
    "    - Root Node : 최상단 노드\n",
    "    - Level : 최상단 노드를 Level 0으로 하였을때, 하위 Branch로 연결된 노드의 깊이를 나타냄\n",
    "    - Parent Node : 어떤 노드의 상위에 연결된 노드\n",
    "    - Child Node: 어떤 노드의 하위에 연결된 노드\n",
    "    - Leaf Node(Terminal Node) : Child Node가 하나도 없는 노드\n",
    "    - Sibling (Brother Node) : 동일한 Parent Node를 가진 노드\n",
    "\n",
    "3. 이진 트리와 이진 탐색 트리\n",
    "    - 이진 트리 : 노드의 최대 Branch가 2인 트리\n",
    "    - 이진 탐색 트리 (Binary Search Tree, BST): 이진 트리에 다음과 같은 추가적인 조건이 있는 트리\n",
    "    - 왼쪽 노드는 해당 노드보다 작은 값, 오른쪽 노드는 해당 노드보다 큰 값을 가지고 있음\n",
    "\n",
    "4. 자료 구조 이진 탐색 트리의 장점과 주요 용도\n",
    "    - 주요 용도: 데이터 검색(탐색)\n",
    "    - 장점 : 탐색 속도를 개선할 수 있음\n",
    "    - 단점 : 복잡함\n",
    "\n",
    "5. 이진 탐색 트리의 삭제\n",
    "    1. leaf node 일때\n",
    "        - 삭제할 Node의 Parent Node가 삭제할 Node를 가리키지 않도록 한다.\n",
    "    2. child node가 하나인 node 삭제\n",
    "        - 삭제할 Node의 Parent가 삭제할 Node의 Child Node를 가리키도록 한다.\n",
    "    3. child node가 두개인 node 삭제\n",
    "        1. 삭제할 Node의 오른쪽 자식 중, 가장 작은 값을 삭제할 Node의 Parent Node가 가리키도록 한다.\n",
    "        2. 삭제할 Node의 왼쪽 자식 중 가장 큰 값을 삭제할 Node의 Parent Node가 가리키도록 한다.\n",
    "          1. 삭제할 Node의 오른쪽 자식 선택\n",
    "          2. 오른쪽 자식의 가장 왼쪽에 있는 Node를 선택\n",
    "          3. 해당 Node를 삭제할 Node의 Parent Node의 왼쪽 Branch가 가리키게 함\n",
    "          4. 해당 Node의 왼쪽 Branch가 삭제할 Node의 왼쪽 Child Node를 가리키게 함\n",
    "          5. 해당 Node의 오른쪽 Branch가 삭제할 Node의 오른쪽 Child Node를 가리키게 함\n",
    "          6. 만약 해당 Node가 오른쪽 Child Node를 가지고 있었을 경우에는, 해당 Node의 본래 Parent Node의 왼쪽 Branch가 해당 오른쪽 Child Node를 가리키게 함\n",
    "6. 이진 탐색 트리의 시간 복잡도\n",
    "    - depth를 h라 표기하면  $O(h)$\n",
    "    - n개의 node를 가진다면  $h = \\log_2 n$에 가까우므로 시간복잡도는 $O(\\log_2 n)$\n",
    "\n",
    "7. 이진 트리의 단점\n",
    "    - 평균 시간 복잡도는 $O(\\log_2 n)$ 임\n",
    "    - 다만 한쪽으로만 치우쳐있는 경우 링크드 리스트와 동일한 성능  $O(n)$"
   ]
  },
  {
   "cell_type": "code",
   "execution_count": 51,
   "metadata": {},
   "outputs": [],
   "source": [
    "# 노드 클래스\n",
    "\n",
    "class Node:\n",
    "    def __init__(self,value):\n",
    "        self.value = value\n",
    "        self.left = None\n",
    "        self.right = None\n",
    "\n",
    "class NodeManager:\n",
    "    def __init__(self,head):\n",
    "        self.head = head\n",
    "        self.current_node = None\n",
    "\n",
    "    def insert(self,value):\n",
    "        self.current_node = self.head\n",
    "        while True:\n",
    "            if value < self.current_node.value:\n",
    "                if self.current_node.left is not None:\n",
    "                    self.current_node = self.current_node.left\n",
    "                else:\n",
    "                    self.current_node.left = Node(value)\n",
    "                    break\n",
    "            else:\n",
    "                if self.current_node.right is not None:\n",
    "                    self.current_node = self.current_node.right\n",
    "                else:\n",
    "                    self.current_node.right = Node(value)\n",
    "                    break\n",
    "\n",
    "    def search(self,value):\n",
    "        while self.current_node:\n",
    "            if self.current_node.value == value:\n",
    "                return True\n",
    "            elif value < self.current_node.value:\n",
    "                self.current_node = self.current_node.left\n",
    "            else:\n",
    "                self.current_node = self.current_node.right\n",
    "        return False\n",
    "\n",
    "    def delete(self, value):\n",
    "        # 삭제할 노드 탐색\n",
    "        searched = False\n",
    "        self.current_node = self.head\n",
    "        self.parent = self.head\n",
    "        while self.current_node:\n",
    "            if self.current_node.value == value:\n",
    "                searched = True\n",
    "                break\n",
    "            elif value < self.current_node.value:\n",
    "                self.parent = self.current_node\n",
    "                self.current_node = self.current_node.left\n",
    "            else:\n",
    "                self.parent = self.current_node\n",
    "                self.current_node = self.current_node.right\n",
    "\n",
    "        if not searched:\n",
    "            return False\n",
    "\n",
    "        # Leaf 노드 일때\n",
    "        if  self.current_node.left is None and self.current_node.right is None:\n",
    "            if value < self.parent.value:\n",
    "                self.parent.left = None\n",
    "            else:\n",
    "                self.parent.right = None\n",
    "\n",
    "        # Child가 한개있을때\n",
    "        elif self.current_node.left is not None and self.current_node.right is None:\n",
    "            if value < self.parent.value:\n",
    "                self.parent.left = self.current_node.left\n",
    "            else:\n",
    "                self.parent.right = self.current_node.left\n",
    "        elif self.current_node.left is None and self.current_node.right is not None:\n",
    "            if value < self.parent.value:\n",
    "                self.parent.left = self.current_node.right\n",
    "            else:\n",
    "                self.parent.right = self.current_node.right\n",
    "\n",
    "        # Child가 두개 있을때\n",
    "        elif self.current_node.left is not None and self.current_node.right is not None:\n",
    "            # 삭제할 Node가 두개의 Child를 가직 있고, 삭제할 Node의 오른쪽에 없을떄\n",
    "            if value < self.parent.value:\n",
    "                self.change_node = self.current_node.right\n",
    "                self.change_node_parent = self.current_node.right\n",
    "                while self.change_node.left is not None:\n",
    "                    self.change_node_parent = self.change_node\n",
    "                    self.change_node = self.change_node.left\n",
    "                if self.change_node.right is not None:\n",
    "                    self.change_node_parent.left = self.change_node.right\n",
    "                else:\n",
    "                    self.change_node_parent.left = None\n",
    "                self.parent.left = self.change_node\n",
    "                self.change_node.right = self.current_node.right\n",
    "                self.change_node.left = self.change_node.left\n",
    "            # 삭제할 Node가 두개의 Child를 가직 있고, 삭제할 Node가 parent의 오른쪽에 있을때\n",
    "            else:\n",
    "                self.change_node = self.current_node.right\n",
    "                self.change_node_parent = self.current_node.right\n",
    "                while self.change_node.left is not None:\n",
    "                    self.change_node_parent = self.change_node\n",
    "                    self.change_node = self.change_node.left\n",
    "                if self.change_node.right is not None:\n",
    "                    self.change_node_parent.left = self.change_node.right\n",
    "                else:\n",
    "                    self.change_node_parent.left = None\n",
    "                self.parent.right = self.change_node\n",
    "                self.change_node.right = self.current_node.right\n",
    "                self.change_node.left = self.current_node.left\n",
    "\n",
    "        return True"
   ]
  },
  {
   "cell_type": "code",
   "execution_count": 55,
   "metadata": {},
   "outputs": [
    {
     "data": {
      "text/plain": [
       "False"
      ]
     },
     "execution_count": 55,
     "metadata": {},
     "output_type": "execute_result"
    }
   ],
   "source": [
    "head = Node(1)\n",
    "BST = NodeManager(head)\n",
    "BST.insert(2)\n",
    "BST.search(5)\n"
   ]
  },
  {
   "cell_type": "markdown",
   "metadata": {
    "pycharm": {
     "name": "#%% md\n"
    }
   },
   "source": [
    "# 1. 힙(Heap)\n",
    "> 데이터에서 최대값과 최소값을 빠르게 찾기 위해 고안된 완전 이진 트리( 노드를 삽입할때 최하단 왼쪽노드부터 차례로 삽입하는 트리)\n",
    "\n",
    "\n",
    "\n",
    "\n",
    "### 1. 힙 (Heap) 이란?\n",
    "- 힙: 데이터에서 최대값과 최소값을 빠르게 찾기 위해 고안된 완전 이진 트리(Complete Binary Tree)\n",
    "  - 완전 이진 트리: 노드를 삽입할 때 최하단 왼쪽 노드부터 차례대로 삽입하는 트리\n",
    "\n",
    "<img src=\"https://www.fun-coding.org/00_Images/completebinarytree.png\" width=300>\n",
    "\n",
    "- 힙을 사용하는 이유\n",
    "  - 배열에 데이터를 넣고, 최대값과 최소값을 찾으려면 O(n) 이 걸림\n",
    "  - 이에 반해, 힙에 데이터를 넣고, 최대값과 최소값을 찾으면, $ O(log n) $ 이 걸림\n",
    "  - 우선순위 큐와 같이 최대값 또는 최소값을 빠르게 찾아야 하는 자료구조 및 알고리즘 구현 등에 활용됨"
   ]
  },
  {
   "cell_type": "markdown",
   "metadata": {},
   "source": [
    "### 2. 힙 (Heap) 구조\n",
    "- 힙은 최대값을 구하기 위한 구조 (최대 힙, Max Heap) 와, 최소값을 구하기 위한 구조 (최소 힙, Min Heap) 로 분류할 수 있음\n",
    "- 힙은 다음과 같이 두 가지 조건을 가지고 있는 자료구조임\n",
    "  1. 각 노드의 값은 해당 노드의 자식 노드가 가진 값보다 크거나 같다. (최대 힙의 경우)\n",
    "     - 최소 힙의 경우는 각 노드의 값은 해당 노드의 자식 노드가 가진 값보다 크거나 작음\n",
    "  2. 완전 이진 트리 형태를 가짐\n",
    "\n",
    "### 힙과 이진 탐색 트리의 공통점과 차이점\n",
    "- 공통점: 힙과 이진 탐색 트리는 모두 이진 트리임\n",
    "- 차이점:\n",
    "  - 힙은 각 노드의 값이 자식 노드보다 크거나 같음(Max Heap의 경우)\n",
    "  - 이진 탐색 트리는 왼쪽 자식 노드의 값이 가장 작고, 그 다음 부모 노드, 그 다음 오른쪽 자식 노드 값이 가장 큼\n",
    "  - 힙은 이진 탐색 트리의 조건인 자식 노드에서 작은 값은 왼쪽, 큰 값은 오른쪽이라는 조건은 없음\n",
    "    - 힙의 왼쪽 및 오른쪽 자식 노드의 값은 오른쪽이 클 수도 있고, 왼쪽이 클 수도 있음\n",
    "- 이진 탐색 트리는 탐색을 위한 구조, 힙은 최대/최소값 검색을 위한 구조 중 하나로 이해하면 됨\n",
    "<img src=\"https://www.fun-coding.org/00_Images/completebinarytree_bst.png\" width=\"800\" />\n"
   ]
  },
  {
   "cell_type": "markdown",
   "metadata": {},
   "source": [
    "### 3. 힙 (Heap) 동작\n",
    "- 데이터를 힙 구조에 삽입, 삭제하는 과정을 그림을 통해 선명하게 이해하기\n",
    "\n",
    "### 힙에 데이터 삽입하기 - 기본 동작\n",
    "- 힙은 완전 이진 트리이므로, 삽입할 노드는 기본적으로 왼쪽 최하단부 노드부터 채워지는 형태로 삽입\n",
    "<img src=\"https://www.fun-coding.org/00_Images/heap_ordinary.png\">"
   ]
  },
  {
   "cell_type": "markdown",
   "metadata": {},
   "source": [
    "### 힙에 데이터 삽입하기 - 삽입할 데이터가 힙의 데이터보다 클 경우 (Max Heap 의 예)\n",
    "- 먼저 삽입된 데이터는 완전 이진 트리 구조에 맞추어, 최하단부 왼쪽 노드부터 채워짐\n",
    "- 채워진 노드 위치에서, 부모 노드보다 값이 클 경우, 부모 노드와 위치를 바꿔주는 작업을 반복함 (swap)\n",
    "<img src=\"https://www.fun-coding.org/00_Images/heap_insert.png\">"
   ]
  },
  {
   "cell_type": "markdown",
   "metadata": {},
   "source": [
    "### 힙의 데이터 삭제하기 (Max Heap 의 예)\n",
    "- 보통 삭제는 최상단 노드 (root 노드)를 삭제하는 것이 일반적임\n",
    "  - 힙의 용도는 최대값 또는 최소값을 root 노드에 놓아서, 최대값과 최소값을 바로 꺼내 쓸 수 있도록 하는 것임\n",
    "- 상단의 데이터 삭제시, 가장 최하단부 왼쪽에 위치한 노드 (일반적으로 가장 마지막에 추가한 노드) 를 root 노드로 이동\n",
    "- root 노드의 값이 child node 보다 작을 경우, root 노드의 child node 중 가장 큰 값을 가진 노드와 root 노드 위치를 바꿔주는 작업을 반복함 (swap)\n",
    "\n",
    "<img src=\"https://www.fun-coding.org/00_Images/heap_remove.png\">"
   ]
  },
  {
   "cell_type": "markdown",
   "metadata": {},
   "source": [
    "### 4. 힙 구현\n",
    "### 힙과 배열\n",
    "- 일반적으로 힙 구현시 배열 자료구조를 활용함\n",
    "- 배열은 인덱스가 0번부터 시작하지만, 힙 구현의 편의를 위해, root 노드 인덱스 번호를 1로 지정하면, 구현이 좀더 수월함\n",
    "  - 부모 노드 인덱스 번호 (parent node's index) = 자식 노드 인덱스 번호 (child node's index) // 2\n",
    "  - 왼쪽 자식 노드 인덱스 번호 (left child node's index) = 부모 노드 인덱스 번호 (parent node's index) * 2\n",
    "  - 오른쪽 자식 노드 인덱스 번호 (right child node's index) = 부모 노드 인덱스 번호 (parent node's index) * 2 + 1\n",
    "<img src=\"https://www.fun-coding.org/00_Images/heap_array.png\" width=400>"
   ]
  },
  {
   "cell_type": "code",
   "execution_count": null,
   "metadata": {
    "pycharm": {
     "name": "#%%\n"
    }
   },
   "outputs": [],
   "source": [
    "\n",
    "class Heap:\n",
    "    def __init__(self, data):\n",
    "        self.heap_array = list()\n",
    "        self.heap_array.append(None)\n",
    "        self.heap_array.append(data)\n",
    "\n",
    "    def move_down(self, popped_idx):\n",
    "        left_child_popped_idx = popped_idx * 2\n",
    "        right_child_popped_idx = popped_idx * 2 + 1\n",
    "\n",
    "        # case1: 왼쪽 자식 노드도 없을 때\n",
    "        if left_child_popped_idx >= len(self.heap_array):\n",
    "            return False\n",
    "        # case2: 오른쪽 자식 노드만 없을 때\n",
    "        elif right_child_popped_idx >= len(self.heap_array):\n",
    "            if self.heap_array[popped_idx] < self.heap_array[left_child_popped_idx]:\n",
    "                return True\n",
    "            else:\n",
    "                return False\n",
    "        # case3: 왼쪽, 오른쪽 자식 노드 모두 있을 때\n",
    "        else:\n",
    "            if self.heap_array[left_child_popped_idx] > self.heap_array[right_child_popped_idx]:\n",
    "                if self.heap_array[popped_idx] < self.heap_array[left_child_popped_idx]:\n",
    "                    return True\n",
    "                else:\n",
    "                    return False\n",
    "            else:\n",
    "                if self.heap_array[popped_idx] < self.heap_array[right_child_popped_idx]:\n",
    "                    return True\n",
    "                else:\n",
    "                    return False\n",
    "\n",
    "    def pop(self):\n",
    "        if len(self.heap_array) <= 1:\n",
    "            return None\n",
    "\n",
    "        returned_data = self.heap_array[1]\n",
    "        self.heap_array[1] = self.heap_array[-1]\n",
    "        del self.heap_array[-1]\n",
    "        popped_idx = 1\n",
    "\n",
    "        while self.move_down(popped_idx):\n",
    "            left_child_popped_idx = popped_idx * 2\n",
    "            right_child_popped_idx = popped_idx * 2 + 1\n",
    "\n",
    "            # case2: 오른쪽 자식 노드만 없을 때\n",
    "            if right_child_popped_idx >= len(self.heap_array):\n",
    "                if self.heap_array[popped_idx] < self.heap_array[left_child_popped_idx]:\n",
    "                    self.heap_array[popped_idx], self.heap_array[left_child_popped_idx] = self.heap_array[left_child_popped_idx], self.heap_array[popped_idx]\n",
    "                    popped_idx = left_child_popped_idx\n",
    "            # case3: 왼쪽, 오른쪽 자식 노드 모두 있을 때\n",
    "            else:\n",
    "                if self.heap_array[left_child_popped_idx] > self.heap_array[right_child_popped_idx]:\n",
    "                    if self.heap_array[popped_idx] < self.heap_array[left_child_popped_idx]:\n",
    "                        self.heap_array[popped_idx], self.heap_array[left_child_popped_idx] = self.heap_array[left_child_popped_idx], self.heap_array[popped_idx]\n",
    "                        popped_idx = left_child_popped_idx\n",
    "                else:\n",
    "                    if self.heap_array[popped_idx] < self.heap_array[right_child_popped_idx]:\n",
    "                        self.heap_array[popped_idx], self.heap_array[right_child_popped_idx] = self.heap_array[right_child_popped_idx], self.heap_array[popped_idx]\n",
    "                        popped_idx = right_child_popped_idx\n",
    "\n",
    "        return returned_data\n",
    "\n",
    "    def move_up(self, inserted_idx):\n",
    "        if inserted_idx <= 1:\n",
    "            return False\n",
    "        parent_idx = inserted_idx // 2\n",
    "        if self.heap_array[inserted_idx] > self.heap_array[parent_idx]:\n",
    "            return True\n",
    "        else:\n",
    "            return False\n",
    "\n",
    "    def insert(self, data):\n",
    "        if len(self.heap_array) == 1:\n",
    "            self.heap_array.append(data)\n",
    "            return True\n",
    "\n",
    "        self.heap_array.append(data)\n",
    "        inserted_idx = len(self.heap_array) - 1\n",
    "\n",
    "        while self.move_up(inserted_idx):\n",
    "            parent_idx = inserted_idx // 2\n",
    "            self.heap_array[inserted_idx], self.heap_array[parent_idx] = self.heap_array[parent_idx], self.heap_array[inserted_idx]\n",
    "            inserted_idx = parent_idx\n",
    "        return True"
   ]
  },
  {
   "cell_type": "markdown",
   "metadata": {},
   "source": [
    "## 그래프\n",
    "\n",
    "- 그래프는 실제 세계의 현상이나 사물의 정점(Vertex) 또는 노드(Node)와 간선(Edge)로 표현하기 위해 사용\n",
    "- 그래프 관련 용어\n",
    "    - 노드(Node) : 위치를 말함, 정점(Vertex)라고 함\n",
    "    - 간선(Edge) : 위치 간의 관계를 표시한 선으로 노드를 연결한 선이라고 보면 됨(link 또는 branch라고도 함)\n",
    "    - 인접 정점(Adjacent Vertex) : 간선으로 직접 연결된 정점\n",
    "    - 참고 용어\n",
    "        - 정점의 차수(Degree) : 무방향 그래프에서 하나의 정점에 인접한 정점의 수\n",
    "        - 진입 차수 (In-Degree): 방향 그래프에서 외부에서 오는 간선의 수\n",
    "        - 진출 차수 (Out-Degreee): 방향 그래프에서 외부로 향하는 간선의 수\n",
    "        - 경로 길이 (Path Length) : 경로를 구성하기 위해 사용된 간선의 수\n",
    "        - 단순 경로 (Simple Path): 처음 정점과 끝 정점을 제외하고 중복된 정점이 없는 경로\n",
    "        - 사이클(Cycle): 단순 경로의 시작 정점과 종료 정점이 동일한 경우\n",
    "\n",
    "#### 무방향 그래프 (Undirected Graph)\n",
    "- 방향이 없는 그래프\n",
    "- 간선을 통해, 노드는 양방향으로 갈 수 있음\n",
    "- 보통 노드 A, B가 연결되어 있을 경우, (A, B) 또는 (B, A) 로 표기\n",
    "<img src=\"https://www.fun-coding.org/00_Images/undirectedgraph.png\" width=300>"
   ]
  },
  {
   "cell_type": "markdown",
   "metadata": {},
   "source": [
    "#### 방향 그래프 (Directed Graph)\n",
    "- 간선에 방향이 있는 그래프\n",
    "- 보통 노드 A, B가 A -> B 로 가는 간선으로 연결되어 있을 경우, <A, B> 로 표기 (<B, A> 는 B -> A 로 가는 간선이 있는 경우이므로 <A, B> 와 다름)\n",
    "<img src=\"https://www.fun-coding.org/00_Images/directedgraph.png\" width=300>"
   ]
  },
  {
   "cell_type": "markdown",
   "metadata": {},
   "source": [
    "#### 가중치 그래프 (Weighted Graph) 또는 네트워크 (Network)\n",
    "- 간선에 비용 또는 가중치가 할당된 그래프\n",
    "\n",
    "<img src=\"https://www.fun-coding.org/00_Images/weightedgraph.png\" width=300>"
   ]
  },
  {
   "cell_type": "markdown",
   "metadata": {},
   "source": [
    "#### 연결 그래프 (Connected Graph) 와 비연결 그래프 (Disconnected Graph)\n",
    "- 연결 그래프 (Connected Graph)\n",
    "  - 무방향 그래프에 있는 모든 노드에 대해 항상 경로가 존재하는 경우\n",
    "- 비연결 그래프 (Disconnected Graph)\n",
    "  - 무방향 그래프에서 특정 노드에 대해 경로가 존재하지 않는 경우\n",
    "  \n",
    "> 비연결 그래프 예\n",
    "<img src=\"https://www.fun-coding.org/00_Images/disconnectedgraph.png\" width=300>"
   ]
  },
  {
   "cell_type": "markdown",
   "metadata": {},
   "source": [
    "#### 사이클 (Cycle) 과 비순환 그래프 (Acyclic Graph)\n",
    "- 사이클 (Cycle)\n",
    "  - 단순 경로의 시작 노드와 종료 노드가 동일한 경우\n",
    "- 비순환 그래프 (Acyclic Graph)\n",
    "  - 사이클이 없는 그래프\n",
    "  \n",
    "> 비순환 그래프 예\n",
    "<img src=\"https://www.fun-coding.org/00_Images/acyclicgraph.png\" width=300>"
   ]
  },
  {
   "cell_type": "markdown",
   "metadata": {},
   "source": [
    "#### 완전 그래프 (Complete Graph)\n",
    "- 그래프의 모든 노드가 서로 연결되어 있는 그래프\n",
    "\n",
    "> 완전 그래프 예\n",
    "<img src=\"https://www.fun-coding.org/00_Images/completegraph.png\" width=300>"
   ]
  },
  {
   "cell_type": "markdown",
   "metadata": {},
   "source": [
    "- 트리는 그래프 중에 속한 특별한 종류라고 볼 수 있음\n",
    "\n",
    "<div style=\"text-align:left\">\n",
    "<table>\n",
    "  <tr>\n",
    "    <th></th>\n",
    "    <th style=\"text-align:center\">그래프</th>\n",
    "    <th style=\"text-align:center\">트리</th>\n",
    "  </tr>\n",
    "  <tr>\n",
    "    <td style=\"text-align:center\">정의</td>\n",
    "    <td style=\"text-align:left\">노드와 노드를 연결하는 간선으로 표현되는 자료 구조</td>\n",
    "    <td style=\"text-align:left\">그래프의 한 종류, 방향성이 있는 비순환 그래프</td>\n",
    "  </tr>\n",
    "  <tr>\n",
    "    <td style=\"text-align:center\">방향성</td>\n",
    "    <td style=\"text-align:left\">방향 그래프, 무방향 그래프 둘다 존재함</td>\n",
    "    <td style=\"text-align:left\">방향 그래프만 존재함</td>\n",
    "  </tr>\n",
    "  <tr>\n",
    "    <td style=\"text-align:center\">사이클</td>\n",
    "    <td style=\"text-align:left\">사이클 가능함, 순환 및 비순환 그래프 모두 존재함</td>\n",
    "    <td style=\"text-align:left\">비순환 그래프로 사이클이 존재하지 않음</td>\n",
    "  </tr>\n",
    "  <tr>\n",
    "    <td style=\"text-align:center\">루트 노드</td>\n",
    "    <td style=\"text-align:left\">루트 노드 존재하지 않음</td>\n",
    "    <td style=\"text-align:left\">루트 노드 존재함</td>\n",
    "  </tr>\n",
    "  <tr>\n",
    "    <td style=\"text-align:center\">부모/자식 관계</td>\n",
    "    <td style=\"text-align:left\">부모 자식 개념이 존재하지 않음</td>\n",
    "    <td style=\"text-align:left\">부모 자식 관계가 존재함</td>\n",
    "  </tr>\n",
    "</table>\n",
    "</div>\n"
   ]
  },
  {
   "cell_type": "markdown",
   "metadata": {
    "pycharm": {
     "name": "#%% md\n"
    }
   },
   "source": [
    "## 너비 우선 탐색 (Breadth-First Search)"
   ]
  },
  {
   "cell_type": "markdown",
   "source": [
    "### 1. BFS 와 DFS 란?\n",
    "* 대표적인 그래프 **탐색** 알고리즘\n",
    "  - 너비 우선 탐색 (Breadth First Search): 정점들과 같은 레벨에 있는 노드들 (형제 노드들)을 먼저 탐색하는 방식\n",
    "  - 깊이 우선 탐색 (Depth First Search): 정점의 자식들을 먼저 탐색하는 방식"
   ],
   "metadata": {
    "collapsed": false
   }
  },
  {
   "cell_type": "markdown",
   "source": [
    "#### BFS/DFS 방식 이해를 위한 예제\n",
    "- BFS 방식: A - B - C - D - G - H - I - E - F - J\n",
    "  - 한 단계씩 내려가면서, 해당 노드와 같은 레벨에 있는 노드들 (형제 노드들)을 먼저 순회함\n",
    "- DFS 방식: A - B - D - E - F - C - G - H - I - J\n",
    "  - 한 노드의 자식을 타고 끝까지 순회한 후, 다시 돌아와서 다른 형제들의 자식을 타고 내려가며 순화함\n",
    "\n",
    "<img src=\"https://www.fun-coding.org/00_Images/BFSDFS.png\" width=700>"
   ],
   "metadata": {
    "collapsed": false
   }
  },
  {
   "cell_type": "markdown",
   "source": [
    "### 2. 파이썬으로 그래프를 표현하는 방법\n",
    "- 파이썬에서 제공하는 딕셔너리와 리스트 자료 구조를 활용해서 그래프를 표현할 수 있음"
   ],
   "metadata": {
    "collapsed": false
   }
  },
  {
   "cell_type": "markdown",
   "source": [
    "### 그래프 예와 파이썬 표현\n",
    "<img src=\"https://www.fun-coding.org/00_Images/bfsgraph.png\" width=700>\n"
   ],
   "metadata": {
    "collapsed": false
   }
  },
  {
   "cell_type": "markdown",
   "source": [
    "## 너비 우선 탐색 방법\n",
    "- need_visit 큐와 visited 큐 두개의 자료 구조를 생성\n",
    "- need_visit : 방문이 필요한 노드\n",
    "- visited : 방문한 노드\n",
    "- 방법\n",
    "    - need_visit에 최초값을 넣음\n",
    "    - need_visit에 최초값의 다음 정점을 넣음\n",
    "    - visit에 방문한 정점을 넣음\n",
    "- 시간 복잡도\n",
    "    - 노드 수 : V\n",
    "    - 간선 수 : E\n",
    "    - 시간 복잡도 $O(V+E)$"
   ],
   "metadata": {
    "collapsed": false,
    "pycharm": {
     "name": "#%% md\n"
    }
   }
  },
  {
   "cell_type": "code",
   "execution_count": 56,
   "outputs": [
    {
     "data": {
      "text/plain": "['A', 'B', 'C', 'D', 'G', 'H', 'I', 'E', 'F', 'J']"
     },
     "execution_count": 56,
     "metadata": {},
     "output_type": "execute_result"
    }
   ],
   "source": [
    "# 너비 우선 탐색\n",
    "\n",
    "graph = dict()\n",
    "\n",
    "graph['A'] = ['B', 'C']\n",
    "graph['B'] = ['A', 'D']\n",
    "graph['C'] = ['A', 'G', 'H', 'I']\n",
    "graph['D'] = ['B', 'E', 'F']\n",
    "graph['E'] = ['D']\n",
    "graph['F'] = ['D']\n",
    "graph['G'] = ['C']\n",
    "graph['H'] = ['C']\n",
    "graph['I'] = ['C', 'J']\n",
    "graph['J'] = ['I']\n",
    "\n",
    "def bfs(graph,start_node):\n",
    "    visited = list()\n",
    "    need_visit = list()\n",
    "    need_visit.append(start_node)\n",
    "\n",
    "    while need_visit:\n",
    "        node = need_visit.pop(0)\n",
    "        if node not in visited:\n",
    "            visited.append(node)\n",
    "            need_visit.extend(graph[node])\n",
    "    return visited\n",
    "\n",
    "bfs(graph,'A')"
   ],
   "metadata": {
    "collapsed": false,
    "pycharm": {
     "name": "#%%\n"
    }
   }
  },
  {
   "cell_type": "markdown",
   "source": [
    "## 깊이 우선 탐색\n",
    "\n",
    "- need_visit 스택과 visited 큐 두개의 자료 구조를 생성\n",
    "- need_visit : 방문이 필요한 노드 (스택)\n",
    "- visited : 방문한 노드\n",
    "- 방법\n",
    "    - need_visit에 최초값을 넣음\n",
    "    - need_visit에 최초값의 다음 정점을 넣음\n",
    "    - visit에 방문한 정점을 넣음\n",
    "- 시간 복잡도\n",
    "    - 노드 수 : V\n",
    "    - 간선 수 : E\n",
    "    - 시간 복잡도 $O(V+E)$"
   ],
   "metadata": {
    "collapsed": false,
    "pycharm": {
     "name": "#%% md\n"
    }
   }
  },
  {
   "cell_type": "code",
   "execution_count": 58,
   "outputs": [
    {
     "data": {
      "text/plain": "['A', 'C', 'I', 'J', 'H', 'G', 'B', 'D', 'F', 'E']"
     },
     "execution_count": 58,
     "metadata": {},
     "output_type": "execute_result"
    }
   ],
   "source": [
    "def dfs(graph,start_node):\n",
    "    visited, need_visit = list(),list()\n",
    "    need_visit.append(start_node)\n",
    "\n",
    "    while need_visit:\n",
    "        node = need_visit.pop()\n",
    "        if node not in visited:\n",
    "            visited.append(node)\n",
    "            need_visit.extend(graph[node])\n",
    "    return visited\n",
    "dfs(graph,'A')"
   ],
   "metadata": {
    "collapsed": false,
    "pycharm": {
     "name": "#%%\n"
    }
   }
  },
  {
   "cell_type": "markdown",
   "source": [
    "## 탐욕 알고리즘\n",
    "\n",
    "1. 탐욕 알고리즘\n",
    "    - Greedy algorithm 또는 탐욕 알고리즘이라고 불리움\n",
    "    - 최적의 해에 가까운 값을 구하기 위해 사용됨\n",
    "    - 여러 경우 중 하나를 결정해야할 떄마다, 매순간 최적이라고 생각디는 경우를 선택하는 방식으로 진행해서, 최종적인 값을 구하는 방식\n",
    "2. 탐욕 알고리즘의 한계\n",
    "    - 탐욕 알고리즘은 근사치 추정에 활용\n",
    "    - 반드시 최적의 해를 구할 수 있는 것은 아님\n",
    "    - 최적의 해에 가까운 값을 구하는 방법 중의 하나"
   ],
   "metadata": {
    "collapsed": false,
    "pycharm": {
     "name": "#%% md\n"
    }
   }
  },
  {
   "cell_type": "code",
   "execution_count": 63,
   "outputs": [
    {
     "name": "stdout",
     "output_type": "stream",
     "text": [
      "500 가 $9개\n",
      "100 가 $2개\n",
      "50 가 $0개\n",
      "1 가 $20개\n"
     ]
    }
   ],
   "source": [
    "# 동전 문제\n",
    "\n",
    "coin_list = [500,100,50,1]\n",
    "\n",
    "def min_coin_count(value,coin_list):\n",
    "    coin_count = 0\n",
    "    details = list()\n",
    "    for coin in coin_list:\n",
    "        coin_num = value // coin\n",
    "        coin_count += coin_num\n",
    "        value -= coin_num * coin\n",
    "        details.append([coin,coin_num])\n",
    "    return coin_count, details\n",
    "\n",
    "min_coin_count(4720,coin_list)\n",
    "\n",
    "# 그냥 꼬리재귀 해본것\n",
    "# 꼬리재귀할떄 value에 연산이 된걸 넘기는게 중요한듯..?\n",
    "total_count = 0\n",
    "def min_coin_tail_recusive(total_count,value,coin_index=0):\n",
    "    if coin_index >= len(coin_list):\n",
    "        return\n",
    "    total_count += value // coin_list[coin_index]\n",
    "    print(f'{coin_list[coin_index]} 가 ${value // coin_list[coin_index]}개')\n",
    "    return min_coin_tail_recusive(total_count,value % coin_list[coin_index],coin_index+1)\n",
    "\n",
    "min_coin_tail_recusive(total_count,4720)\n",
    "\n",
    "# 부분 배낭 문제\n"
   ],
   "metadata": {
    "collapsed": false,
    "pycharm": {
     "name": "#%%\n"
    }
   }
  },
  {
   "cell_type": "markdown",
   "source": [
    "### 1. 최단 경로 문제란?\n",
    "- 최단 경로 문제란 두 노드를 잇는 가장 짧은 경로를 찾는 문제임\n",
    "- 가중치 그래프 (Weighted Graph) 에서 간선 (Edge)의 가중치 합이 최소가 되도록 하는 경로를 찾는 것이 목적"
   ],
   "metadata": {
    "collapsed": false,
    "pycharm": {
     "name": "#%% md\n"
    }
   }
  },
  {
   "cell_type": "markdown",
   "source": [
    "### 최단 경로 문제 종류\n",
    "1. 단일 출발 및 단일 도착 (single-source and single-destination shortest path problem) 최단 경로 문제\n",
    "  - 그래프 내의 특정 노드 u 에서 출발, 또다른 특정 노드 v 에 도착하는 가장 짧은 경로를 찾는 문제\n",
    "2. 단일 출발 (single-source shortest path problem) 최단 경로 문제\n",
    "  - 그래프 내의 특정 노드 u 와 그래프 내 다른 모든 노드 각각의 가장 짧은 경로를 찾는 문제\n",
    "  > 따지고 보면 굉장히 헷깔릴 수 있으므로 명확히 하자면,\n",
    "  > 예를 들어 A, B, C, D 라는 노드를 가진 그래프에서 특정 노드를 A 라고 한다면,\n",
    "  > A 외 모든 노드인 B, C, D 각 노드와 A 간에 (즉, A - B, A - C, A - D) 각각 가장 짧은 경로를 찾는 문제를 의미함\n",
    "\n",
    "\n",
    "\n",
    "3. 전체 쌍(all-pair) 최단 경로: 그래프 내의 모든 노드 쌍 (u, v) 에 대한 최단 경로를 찾는 문제"
   ],
   "metadata": {
    "collapsed": false
   }
  },
  {
   "cell_type": "markdown",
   "source": [
    "### 2. 최단 경로 알고리즘 - 다익스트라 알고리즘\n",
    "- 다익스트라 알고리즘은 위의 최단 경로 문제 종류 중, 2번에 해당\n",
    "  - 하나의 정점에서 다른 모든 정점 간의 각각 **가장 짧은 거리**를 구하는 문제\n",
    "\n",
    "### 다익스트라 알고리즘 로직\n",
    "- 첫 정점을 기준으로 연결되어 있는 정점들을 추가해 가며, 최단 거리를 갱신하는 기법\n",
    "- 다익스트라 알고리즘은 너비우선탐색(BFS)와 유사\n",
    "  - 첫 정점부터 각 노드간의 거리를 저장하는 배열을 만든 후, 첫 정점의 인접 노드 간의 거리부터 먼저 계산하면서, 첫 정점부터 해당 노드간의 가장 짧은 거리를 해당 배열에 업데이트\n",
    ">  다익스트라 알고리즘의 다양한 변형 로직이 있지만, 가장 개선된 우선순위 큐를 사용하는 방식에 집중해서 설명하기로 함\n",
    "\n",
    "- 우선순위 큐를 활용한 다익스트라 알고리즘\n",
    "  - 우선순위 큐는 MinHeap 방식을 활용해서, 현재 가장 짧은 거리를 가진 노드 정보를 먼저 꺼내게 됨\n",
    "\n",
    "  1) 첫 정점을 기준으로 배열을 선언하여 첫 정점에서 각 정점까지의 거리를 저장\n",
    "     - 초기에는 첫 정점의 거리는 0, 나머지는 무한대로 저장함 (inf 라고 표현함)\n",
    "     - 우선순위 큐에 (첫 정점, 거리 0) 만 먼저 넣음\n",
    "\n",
    "  2) 우선순위 큐에서 노드를 꺼냄\n",
    "     - 처음에는 첫 정점만 저장되어 있으므로, 첫 정점이 꺼내짐\n",
    "     - 첫 정점에 인접한 노드들 각각에 대해, 첫 정점에서 각 노드로 가는 거리와 현재 배열에 저장되어 있는 첫 정점에서 각 정점까지의 거리를 비교한다.\n",
    "     - 배열에 저장되어 있는 거리보다, 첫 정점에서 해당 노드로 가는 거리가 더 짧을 경우, 배열에 해당 노드의 거리를 업데이트한다.\n",
    "     - 배열에 해당 노드의 거리가 업데이트된 경우, 우선순위 큐에 넣는다.\n",
    "       - 결과적으로 너비 우선 탐색 방식과 유사하게, 첫 정점에 인접한 노드들을 순차적으로 방문하게 됨\n",
    "       - 만약 배열에 기록된 현재까지 발견된 가장 짧은 거리보다, 더 긴 거리(루트)를 가진 (노드, 거리)의 경우에는 해당 노드와 인접한 노드간의 거리 계산을 하지 않음\n",
    "\n",
    "  3) 2번의 과정을 우선순위 큐에 꺼낼 노드가 없을 때까지 반복한다.\n"
   ],
   "metadata": {
    "collapsed": false
   }
  },
  {
   "cell_type": "code",
   "execution_count": 66,
   "outputs": [
    {
     "name": "stdout",
     "output_type": "stream",
     "text": [
      "[1, 'C']\n",
      "[2, 'A']\n",
      "[5, 'B']\n",
      "[7, 'D']\n"
     ]
    }
   ],
   "source": [
    "import heapq\n",
    "\n",
    "queue = []\n",
    "\n",
    "heapq.heappush(queue,[2,'A'])\n",
    "heapq.heappush(queue,[5,'B'])\n",
    "heapq.heappush(queue,[1,'C'])\n",
    "heapq.heappush(queue,[7,'D'])\n",
    "\n",
    "for index in range(len(queue)):\n",
    "    print(heapq.heappop(queue))"
   ],
   "metadata": {
    "collapsed": false,
    "pycharm": {
     "name": "#%%\n"
    }
   }
  },
  {
   "cell_type": "code",
   "execution_count": null,
   "outputs": [],
   "source": [
    "graph =  {\n",
    "    'A': {'B': 8, 'C': 1, 'D': 2},\n",
    "    'B': {},\n",
    "    'C': {'B': 5, 'D': 2},\n",
    "    'D': {'E': 3, 'F': 5},\n",
    "    'E': {'F': 1},\n",
    "    'F': {'A': 5}\n",
    "}\n",
    "\n",
    "def dijkstra(graph,start):\n",
    "    distances = {node: float('inf') for node in graph}\n",
    "    distances[start] = 0\n",
    "    queue = []\n",
    "    heapq.heappop(queue,[distances[start],start])\n",
    "\n",
    "    while queue:\n",
    "        current_distance, current_node = heapq.heappop(queue)\n",
    "\n",
    "        for adjacent,weight in graph[current_node].items():\n",
    "            distance = current_distance + weight\n",
    "\n",
    "            if distance < distances[adjacent]:\n",
    "                distances[adjacent] = distance\n",
    "                heapq.heappush(queue,[distance,adjacent])"
   ],
   "metadata": {
    "collapsed": false,
    "pycharm": {
     "name": "#%%\n"
    }
   }
  },
  {
   "cell_type": "markdown",
   "source": [
    "# 최소 신장 트리\n",
    "\n",
    "### 신장 트리\n",
    "- Spanning Tree, 또는 신장 트리라고 불리움\n",
    "- 원래의 그래프의 모든 노드가 연결되어있으면서 트리의 속성을 만족하는 그래프\n",
    "- 최소 신장 트리의 조건\n",
    "    - 본래의 그래프의 모든 노드를 포함해야함\n",
    "    - 모든 노드가 서로 연결\n",
    "    - 트리의 속성을 만족시킴(사이클이 존재하지 않음)\n",
    "\n",
    "### 최소 신장 트리\n",
    "    - Minimum Spanning Tree, MST라고 불리움\n",
    "    - 가능한 Spanning Tree 중에서, 간선의 가중치 합이 최소인 Spanning Tree를 지칭함\n",
    "\n",
    "\n",
    "### 4. 크루스칼 알고리즘 (Kruskal's algorithm)\n",
    "1. 모든 정점을 독립적인 집합으로 만든다.\n",
    "2. 모든 간선을 비용을 기준으로 정렬하고, 비용이 작은 간선부터 양 끝의 두 정점을 비교한다.\n",
    "3. 두 정점의 최상위 정점을 확인하고, 서로 다를 경우 두 정점을 연결한다. (최소 신장 트리는 사이클이 없으므로, 사이클이 생기지 않도록 하는 것임)\n",
    "\n",
    "> 탐욕 알고리즘을 기초로 하고 있음 (당장 눈 앞의 최소 비용을 선택해서, 결과적으로 최적의 솔루션을 찾음)"
   ],
   "metadata": {
    "collapsed": false,
    "pycharm": {
     "name": "#%% md\n"
    }
   }
  },
  {
   "cell_type": "markdown",
   "source": [
    "<img src=\"https://www.fun-coding.org/00_Images/kruscal_internal1.png\" width=650>"
   ],
   "metadata": {
    "collapsed": false
   }
  },
  {
   "cell_type": "markdown",
   "source": [
    "<img src=\"https://www.fun-coding.org/00_Images/kruscal_internal2.png\" width=800>"
   ],
   "metadata": {
    "collapsed": false
   }
  },
  {
   "cell_type": "code",
   "execution_count": null,
   "outputs": [],
   "source": [],
   "metadata": {
    "collapsed": false,
    "pycharm": {
     "name": "#%%\n"
    }
   }
  },
  {
   "cell_type": "markdown",
   "source": [
    "### 5. Union-Find 알고리즘\n",
    "- Disjoint Set을 표현할 때 사용하는 알고리즘으로 트리 구조를 활용하는 알고리즘\n",
    "- 간단하게, 노드들 중에 연결된 노드를 찾거나, 노드들을 서로 연결할 때 (합칠 때) 사용\n",
    "- Disjoint Set이란\n",
    "  - 서로 중복되지 않는 부분 집합들로 나눠진 원소들에 대한 정보를 저장하고 조작하는 자료구조\n",
    "  - 공통 원소가 없는 (서로소) 상호 배타적인 부분 집합들로 나눠진 원소들에 대한 자료구조를 의미함\n",
    "  - Disjoint Set = 서로소 집합 자료구조"
   ],
   "metadata": {
    "collapsed": false
   }
  },
  {
   "cell_type": "markdown",
   "source": [
    "1. 초기화\n",
    "   - n 개의 원소가 개별 집합으로 이뤄지도록 초기화\n",
    "<img src=\"https://www.fun-coding.org/00_Images/initial_findunion.png\" width=400>\n",
    "2. Union\n",
    "   - 두 개별 집합을 하나의 집합으로 합침, 두 트리를 하나의 트리로 만듬\n",
    "<img src=\"https://www.fun-coding.org/00_Images/union_findunion.png\" width=600>\n",
    "\n",
    "3. Find\n",
    "   - 여러 노드가 존재할 때, 두 개의 노드를 선택해서, 현재 두 노드가 서로 같은 그래프에 속하는지 판별하기 위해, 각 그룹의 최상단 원소 (즉, 루트 노드)를 확인\n",
    "<img src=\"https://www.fun-coding.org/00_Images/find_findunion.png\" width=500>"
   ],
   "metadata": {
    "collapsed": false
   }
  },
  {
   "cell_type": "markdown",
   "source": [
    "### Union-Find 알고리즘의 고려할 점\n",
    "- Union 순서에 따라서, 최악의 경우 링크드 리스트와 같은 형태가 될 수 있음.\n",
    "- 이 때는 Find/Union 시 계산량이 O(N) 이 될 수 있으므로, 해당 문제를 해결하기 위해, union-by-rank, path compression 기법을 사용함\n",
    "\n",
    "<img src=\"https://www.fun-coding.org/00_Images/worst_findunion.png\" width=200>\n",
    "\n",
    "### union-by-rank\n",
    "\n",
    "- 각 트리에 대한 높이(rank)를 기억해 두고,\n",
    "- Union시 두 트리의 높이가 다르면, 높이가 작은 트리를 높이가 큰트리에 붙임\n",
    "- 둘의 높이가 동일하면 한 쪽의 트리 높이를 1 증가시켜주고 , 다른 쪽의 트리를 해당 트리에 붙여줌\n",
    "\n",
    "\n",
    "- 초기화시, 모든 원소는 높이(rank) 가 0 인 개별 집합인 상태에서, 하나씩 원소를 합칠 때, union-by-rank 기법을 사용한다면,\n",
    "  - 높이가 h 인 트리가 만들어지려면, 높이가 h - 1 인 두 개의 트리가 합쳐져야 함\n",
    "  - 높이가 h - 1 인 트리를 만들기 위해 최소 n개의 원소가 필요하다면, 높이가 h 인 트리가 만들어지기 위해서는 최소 2n개의 원소가 필요함\n",
    "  - 따라서 union-by-rank 기법을 사용하면, union/find 연산의 시간복잡도는 O(N) 이 아닌, $ O(log{N}) $ 로 낮출 수 있음"
   ],
   "metadata": {
    "collapsed": false
   }
  },
  {
   "cell_type": "markdown",
   "source": [
    "### path compression\n",
    "- Find를 실행한 노드에서 거쳐간 노드를 루트에 다이렉트로 연결하는 기법\n",
    "- Find를 실행한 노드는 이후부터는 루트 노드를 한번에 알 수 있음\n",
    "\n",
    "<center><img src=\"https://www.fun-coding.org/00_Images/pathcompression_findunion.png\" width=400></center>\n",
    "\n",
    "- union-by-rank 와 path compression 기법 사용시 시간 복잡도는 다음 계산식을 만족함이 증명되었음\n",
    "  - $ O(M log^*{N}) $\n",
    "  - $ log^*{N} $ 은 다음 값을 가짐이 증명되었음\n",
    "    - N이 $ 2^{65536} $ 값을 가지더라도, $ log^*{N} $ 의 값이 5의 값을 가지므로, 거의 O(1), 즉 상수값에 가깝다고 볼 수 있음\n",
    "\n",
    "<div style=\"text-align:left\">\n",
    "<table>\n",
    "  <tr>\n",
    "    <th style=\"text-align:center\">N</th>\n",
    "    <th style=\"text-align:center\">$ log^*{N} $</th>\n",
    "  </tr>\n",
    "  <tr>\n",
    "    <td style=\"text-align:left\">1</td>\n",
    "    <td style=\"text-align:left\">0</td>\n",
    "  </tr>\n",
    "  <tr>\n",
    "    <td style=\"text-align:left\">2</td>\n",
    "    <td style=\"text-align:left\">1</td>\n",
    "  </tr>\n",
    "  <tr>\n",
    "    <td style=\"text-align:left\">4</td>\n",
    "    <td style=\"text-align:left\">2</td>\n",
    "  </tr>\n",
    "  <tr>\n",
    "    <td style=\"text-align:left\">16</td>\n",
    "    <td style=\"text-align:left\">3</td>\n",
    "  </tr>\n",
    "  <tr>\n",
    "    <td style=\"text-align:left\">65536</td>\n",
    "    <td style=\"text-align:left\">4</td>\n",
    "  </tr>\n",
    "  <tr>\n",
    "    <td style=\"text-align:left\">$ 2^{65536} $</td>\n",
    "    <td style=\"text-align:left\">5</td>\n",
    "  </tr>\n",
    "</table>\n",
    "</div>"
   ],
   "metadata": {
    "collapsed": false
   }
  },
  {
   "cell_type": "code",
   "execution_count": 68,
   "outputs": [
    {
     "data": {
      "text/plain": "[(5, 'A', 'D'),\n (5, 'C', 'E'),\n (6, 'D', 'F'),\n (7, 'A', 'B'),\n (7, 'B', 'E'),\n (9, 'E', 'G')]"
     },
     "execution_count": 68,
     "metadata": {},
     "output_type": "execute_result"
    }
   ],
   "source": [
    "mygraph = {\n",
    "    'vertices': ['A', 'B', 'C', 'D', 'E', 'F', 'G'],\n",
    "    'edges': [\n",
    "        (7, 'A', 'B'),\n",
    "        (5, 'A', 'D'),\n",
    "        (7, 'B', 'A'),\n",
    "        (8, 'B', 'C'),\n",
    "        (9, 'B', 'D'),\n",
    "        (7, 'B', 'E'),\n",
    "        (8, 'C', 'B'),\n",
    "        (5, 'C', 'E'),\n",
    "        (5, 'D', 'A'),\n",
    "        (9, 'D', 'B'),\n",
    "        (7, 'D', 'E'),\n",
    "        (6, 'D', 'F'),\n",
    "        (7, 'E', 'B'),\n",
    "        (5, 'E', 'C'),\n",
    "        (7, 'E', 'D'),\n",
    "        (8, 'E', 'F'),\n",
    "        (9, 'E', 'G'),\n",
    "        (6, 'F', 'D'),\n",
    "        (8, 'F', 'E'),\n",
    "        (11, 'F', 'G'),\n",
    "        (9, 'G', 'E'),\n",
    "        (11, 'G', 'F')\n",
    "    ]\n",
    "}\n",
    "\n",
    "parent = dict()\n",
    "rank = dict()\n",
    "\n",
    "# 각 노드별 rank 초기화 및 parent 초기화\n",
    "def find(node):\n",
    "    # 루트노드가 아닌 경우\n",
    "    if parent[node] != node:\n",
    "        # 최종적으로 루트노드에 모두 들어간다\n",
    "        # path compresshion 기법\n",
    "        parent[node] = find(parent[node])\n",
    "    return parent[node]\n",
    "\n",
    "def union(node_v,node_u):\n",
    "    root1 = find(node_v)\n",
    "    root2 = find(node_u)\n",
    "\n",
    "    # union_rank 기법\n",
    "    if rank[root1] > rank[root2]:\n",
    "        parent[root2] = root1\n",
    "    else:\n",
    "        parent[root1] = root2\n",
    "\n",
    "        if rank[root1] == rank[root2]:\n",
    "            rank[root2] += 1\n",
    "\n",
    "def make_set(node):\n",
    "    parent[node] = node\n",
    "    rank[node] = 0\n",
    "\n",
    "\n",
    "def kruskal(graph):\n",
    "    mst = list()\n",
    "\n",
    "    for node in graph['vertices']:\n",
    "        make_set(node)\n",
    "\n",
    "    # 간선 weight 기반 sorted\n",
    "    edges = graph['edges']\n",
    "    edges.sort()\n",
    "\n",
    "    # 간선 연결\n",
    "    for edge in edges:\n",
    "        weight, node_v, node_u = edge\n",
    "        if find(node_v) != find(node_u):\n",
    "            union(node_v,node_u)\n",
    "            mst.append(edge)\n",
    "    return mst\n",
    "\n",
    "kruskal(mygraph)"
   ],
   "metadata": {
    "collapsed": false,
    "pycharm": {
     "name": "#%%\n"
    }
   }
  },
  {
   "cell_type": "markdown",
   "source": [
    "### 1. 프림 알고리즘 (Prim's algorithm)\n",
    "- 대표적인 최소 신장 트리 알고리즘\n",
    "  - Kruskal’s algorithm (크루스칼 알고리즘), Prim's algorithm (프림 알고리즘)\n",
    "- 프림 알고리즘\n",
    "  - 시작 정점을 선택한 후, 정점에 인접한 간선중 최소 간선으로 연결된 정점을 선택하고, 해당 정점에서 다시 최소 간선으로 연결된 정점을 선택하는 방식으로 최소 신장 트리를 확장해가는 방식\n",
    "- Kruskal's algorithm 과 Prim's algorithm 비교\n",
    "  - 둘다, 탐욕 알고리즘을 기초로 하고 있음 (당장 눈 앞의 최소 비용을 선택해서, 결과적으로 최적의 솔루션을 찾음)\n",
    "  - Kruskal's algorithm은 가장 가중치가 작은 간선부터 선택하면서 MST를 구함\n",
    "  - Prim's algorithm은 특정 정점에서 시작, 해당 정점에 연결된 가장 가중치가 작은 간선을 선택, 간선으로 연결된 정점들에 연결된 간선 중에서 가장 가중치가 작은 간선을 택하는 방식으로 MST를 구함"
   ],
   "metadata": {
    "collapsed": false
   }
  },
  {
   "cell_type": "markdown",
   "source": [
    "### 2. 그림으로 이해하는 프림 알고리즘\n",
    "1. 임의의 정점을 선택, '연결된 노드 집합'에 삽입\n",
    "2. 선택된 정점에 연결된 간선들을 간선 리스트에 삽입\n",
    "3. 간선 리스트에서 최소 가중치를 가지는 간선부터 추출해서,\n",
    "   - 해당 간선에 연결된 인접 정점이 '연결된 노드 집합'에 이미 들어 있다면, 스킵함(cycle 발생을 막기 위함)\n",
    "   - 해당 간선에 연결된 인접 정점이 '연결된 노드 집합'에 들어 있지 않으면, 해당 간선을 선택하고, 해당 간선 정보를 '최소 신장 트리'에 삽입\n",
    "4. 추출한 간선은 간선 리스트에서 제거\n",
    "5. 간선 리스트에 더 이상의 간선이 없을 때까지 3-4번을 반복"
   ],
   "metadata": {
    "collapsed": false
   }
  },
  {
   "cell_type": "markdown",
   "source": [
    "<img src=\"https://www.fun-coding.org/00_Images/prim1.png\" width=800>"
   ],
   "metadata": {
    "collapsed": false
   }
  },
  {
   "cell_type": "markdown",
   "source": [
    "<img src=\"https://www.fun-coding.org/00_Images/prim2.png\" width=800>"
   ],
   "metadata": {
    "collapsed": false
   }
  },
  {
   "cell_type": "markdown",
   "source": [
    "<img src=\"https://www.fun-coding.org/00_Images/prim3.png\" width=800>"
   ],
   "metadata": {
    "collapsed": false
   }
  },
  {
   "cell_type": "code",
   "execution_count": 73,
   "outputs": [
    {
     "data": {
      "text/plain": "[(5, 'A', 'D'),\n (6, 'D', 'F'),\n (7, 'A', 'B'),\n (7, 'B', 'E'),\n (8, 'B', 'C'),\n (9, 'E', 'G')]"
     },
     "execution_count": 73,
     "metadata": {},
     "output_type": "execute_result"
    }
   ],
   "source": [
    "import heapq\n",
    "from collections import defaultdict\n",
    "myedges = [\n",
    "    (7, 'A', 'B'), (5, 'A', 'D'),\n",
    "    (8, 'B', 'C'), (9, 'B', 'D'), (7, 'B', 'E'),\n",
    "    (5, 'C', 'E'),\n",
    "    (7, 'D', 'E'), (6, 'D', 'F'),\n",
    "    (8, 'E', 'F'), (9, 'E', 'G'),\n",
    "    (11, 'F', 'G'),\n",
    "]\n",
    "\n",
    "def prim(start_node,edges):\n",
    "    mst = list()\n",
    "    adjacent_edges = defaultdict(list)\n",
    "    for weight, n1, n2 in edges:\n",
    "        adjacent_edges[n1].append((weight,n1,n2))\n",
    "        adjacent_edges[n2].append((weight,n1,n2))\n",
    "    connected_nodes = set(start_node)\n",
    "    candidate_edge_list = adjacent_edges[start_node]\n",
    "    heapq.heapify(candidate_edge_list)\n",
    "    while candidate_edge_list:\n",
    "        weight, n1, n2 = heapq.heappop(candidate_edge_list)\n",
    "        if n2 not in connected_nodes:\n",
    "            connected_nodes.add(n2)\n",
    "            mst.append((weight,n1,n2))\n",
    "            for edge in adjacent_edges[n2]:\n",
    "                if edge[2] not in connected_nodes:\n",
    "                    heapq.heappush(candidate_edge_list,edge)\n",
    "    return mst\n",
    "prim('A',myedges)\n",
    "\n",
    "\n"
   ],
   "metadata": {
    "collapsed": false,
    "pycharm": {
     "name": "#%%\n"
    }
   }
  },
  {
   "cell_type": "code",
   "execution_count": null,
   "outputs": [],
   "source": [],
   "metadata": {
    "collapsed": false,
    "pycharm": {
     "name": "#%%\n"
    }
   }
  }
 ],
 "metadata": {
  "kernelspec": {
   "display_name": "Python 3",
   "language": "python",
   "name": "python3"
  },
  "language_info": {
   "codemirror_mode": {
    "name": "ipython",
    "version": 3
   },
   "file_extension": ".py",
   "mimetype": "text/x-python",
   "name": "python",
   "nbconvert_exporter": "python",
   "pygments_lexer": "ipython3",
   "version": "3.8.3"
  }
 },
 "nbformat": 4,
 "nbformat_minor": 1
}