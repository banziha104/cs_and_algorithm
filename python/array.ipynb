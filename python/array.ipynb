{
 "cells": [
  {
   "cell_type": "markdown",
   "metadata": {
    "pycharm": {
     "name": "#%% md\n"
    }
   },
   "source": [
    "## 링크드 리스트"
   ]
  },
  {
   "cell_type": "code",
   "execution_count": 22,
   "metadata": {
    "pycharm": {
     "name": "#%%\n"
    }
   },
   "outputs": [],
   "source": [
    "class Node:\n",
    "    def __init__(self,data,next=None):\n",
    "        self.data = data\n",
    "        self.next = next\n",
    "\n",
    "class NodeManager:\n",
    "    def __init__(self,data):\n",
    "        self.head = Node(data)\n",
    "\n",
    "    def add(self,data):\n",
    "        if self.head == '':\n",
    "            self.head = Node(data)\n",
    "        else:\n",
    "            node = self.head\n",
    "            while node.next:\n",
    "                node = node.next\n",
    "            node.next = Node(data)\n",
    "\n",
    "    def delete(self,data):\n",
    "        if self.head == '':\n",
    "            print(\"빈 리스트\")\n",
    "            return\n",
    "        if self.head.data == data:\n",
    "            temp = self.head\n",
    "            self.head = self.head.next\n",
    "        else:\n",
    "            node = self.head\n",
    "            while node.next:\n",
    "                if node.next.data == data:\n",
    "                    temp = node.next\n",
    "                    node.next = node.next.next\n",
    "                    del temp\n",
    "                else:\n",
    "                    node = node.next\n",
    "\n",
    "    def desc(self): # 순회\n",
    "        node = self.head\n",
    "        while node:\n",
    "            print(node.data)\n",
    "            node = node.next\n"
   ]
  },
  {
   "cell_type": "code",
   "execution_count": 23,
   "metadata": {
    "pycharm": {
     "name": "#%%\n"
    }
   },
   "outputs": [
    {
     "name": "stdout",
     "output_type": "stream",
     "text": [
      "0\n",
      "0\n",
      "1\n",
      "2\n",
      "3\n",
      "4\n",
      "5\n",
      "6\n",
      "7\n",
      "8\n",
      "9\n"
     ]
    }
   ],
   "source": [
    "linked_list_1 = NodeManager(0)\n",
    "linked_list_1.desc()\n",
    "\n",
    "for data in range(1,10):\n",
    "    linked_list_1.add(data)\n",
    "\n",
    "linked_list_1.desc()"
   ]
  },
  {
   "cell_type": "code",
   "execution_count": 23,
   "metadata": {
    "pycharm": {
     "name": "#%%\n"
    }
   },
   "outputs": [],
   "source": []
  },
  {
   "cell_type": "code",
   "execution_count": 24,
   "metadata": {
    "pycharm": {
     "name": "#%%\n"
    }
   },
   "outputs": [
    {
     "name": "stdout",
     "output_type": "stream",
     "text": [
      "0\n",
      "1\n",
      "3\n",
      "4\n",
      "5\n",
      "6\n",
      "7\n",
      "8\n",
      "9\n"
     ]
    }
   ],
   "source": [
    "linked_list_1.delete(2)\n",
    "linked_list_1.desc()"
   ]
  },
  {
   "cell_type": "markdown",
   "metadata": {
    "pycharm": {
     "name": "#%% md\n"
    }
   },
   "source": [
    "### 해쉬테이블\n",
    "\n",
    "- 해쉬 : 임의 값을 고정 길이로 변환하는것\n",
    "- 해쉬 테이블 : 키 값의 연산에 의해 직접 접근이 가능한 데이터 구조\n",
    "- 해싱함수 : Key에 대해 산술 연산을 이용해 데이터의 위치를 찾는 함수\n",
    "- 해쉬값, 해쉬주소 : Key를 해싱함수로 연산해서 해쉬값을 알아내고 이를 기반으로 해쉬테이블에서 해당 Key에 대한 데이터 위치를 일관성 있게 찾을 수 있음.\n",
    "- 슬롯 : 한 개의 데이터를 저장할 수 있는 공간\n",
    "\n",
    "#### 해쉬테이블 충돌 해결 알고리즘\n",
    "\n",
    "- Chaining 기법 \n",
    "    - 개방 해슁 또는 Open Hashing 기법 중 하나: 해쉬 테이블 저장공간 외의 공가늘 활용하는 기법\n",
    "    - 충돌이 일어나면, 링크드 리스트라는 자료구조를 사용해서 링크드 리스트로 데이터를 추가로 뒤에 연결시켜서 저장하는 기법\n",
    "- Linear Probing 기법\n",
    "    - 폐쇄 해슁 또는 Close Hashing 기법 : 해쉬 테이블 저장공간 안에서 충돌 문제를 해결하는 기법\n",
    "    - 충돌이 일어나면 해당 hash_address 안에 다음에 빈 공간에 저장 \n",
    "\n",
    "#### 해쉬 함수와 키 생성 함수\n",
    "- 파이썬의 hash() 함수는 실행할때 마다 값이 달라질 수 있음\n",
    "- 유명한 해쉬 알고리즘 SHA(Secure Hash Algorithm, 안전한 해시 알고리즘)\n",
    "    - 어떤 데이터도 유일한 고정된 크기의 고정값을 리턴해주므로, 해쉬 함수로 유용하게 활용 가능\n",
    "    - SHA-1\n",
    "    - SHA-256\n",
    "\n",
    "#### 시간 복잡도\n",
    "- 일반적인 경우(충돌이 없는 경우)는 $$O(1)$$\n",
    "- 최악의 경우(충돌이 모두 발생하는 경우)는 $$O(n)$$"
   ]
  },
  {
   "cell_type": "code",
   "execution_count": 25,
   "metadata": {
    "pycharm": {
     "name": "#%%\n"
    }
   },
   "outputs": [
    {
     "data": {
      "text/plain": "'01011111111'"
     },
     "execution_count": 25,
     "metadata": {},
     "output_type": "execute_result"
    }
   ],
   "source": [
    "# 해시 테이블 생성 \n",
    "hash_table = list([ 0 for i in range(10)])\n",
    "hash_table\n",
    "\n",
    "# 해시 함수 생성 (Division 기법)\n",
    "def hash_func(key):\n",
    "    return key % 5\n",
    "\n",
    "\n",
    "# 데이터를 저장하는 함수\n",
    "def storage_data(data,value):   \n",
    "    # ord() : 문자의 아스키 코드를 리턴\n",
    "    key = ord(data[0])\n",
    "    hash_address = hash_func(key)\n",
    "    hash_table[hash_address] = value\n",
    "    \n",
    "# 데이터를 가져오는 함수\n",
    "\n",
    "def get_data(data):\n",
    "    key = ord(data[0])\n",
    "    hash_address = hash_func(key)\n",
    "    return hash_table[hash_address]\n",
    "    \n",
    "data1 = 'Andy'\n",
    "data2 = 'Dave'\n",
    "data3 = 'Trump'\n",
    "\n",
    "storage_data('Andy','01011111111')\n",
    "storage_data('Dave','01022222222')\n",
    "storage_data('Trump','01033333333')\n",
    "\n",
    "\n",
    "get_data('Andy')\n"
   ]
  },
  {
   "cell_type": "code",
   "execution_count": 37,
   "metadata": {
    "pycharm": {
     "name": "#%%\n"
    }
   },
   "outputs": [],
   "source": [
    "hash_table = list([ 0 for i in range(8)])\n",
    "def get_key(data):\n",
    "    return hash(data)\n",
    "\n",
    "def hash_function(key):\n",
    "    return key % 8\n",
    "\n",
    "def save_data(data,value):\n",
    "    hash_address = hash_function(get_key(data))\n",
    "    hash_table[hash_address] = value\n",
    "\n",
    "def read_data(data):\n",
    "    hash_address = hash_function(get_key(data))\n",
    "    return hash_table[hash_address]\n",
    "\n",
    "save_data('Andy','01011111111')\n",
    "save_data('Dave','01022222222')\n",
    "save_data('Trump','01033333333')\n",
    "\n",
    "read_data('Dave')\n",
    "    "
   ]
  },
  {
   "cell_type": "code",
   "execution_count": 44,
   "metadata": {},
   "outputs": [],
   "source": [
    "# Chaining 기법을 이용해 충돌 해결 (Open Hashing)\n",
    "\n",
    "hash_table = list([ 0 for i in range(8)])\n",
    "def save_data(data,value):\n",
    "    index_key = get_key(data)\n",
    "    hash_address = hash_function(index_key)\n",
    "    if hash_table[hash_address] != 0:\n",
    "        for index in range(len(hash_table[hash_address])):\n",
    "            if hash_table[hash_address][index][0] == index_key:\n",
    "                hash_table[hash_address][index][1] = value\n",
    "                return\n",
    "        hash_table[hash_address].append([index_key,value])\n",
    "    else:\n",
    "        hash_table[hash_address] = [[index_key,value]]\n",
    "\n",
    "def read_data(data):\n",
    "    index_key = get_key(data)\n",
    "    hash_address = hash_function(index_key)\n",
    "    if hash_table [hash_address] != 0:\n",
    "        for index in range(len(hash_table[hash_address])):\n",
    "            if hash_table[hash_address][index][0] == index_key:\n",
    "                return hash_table[hash_address][index][1]\n",
    "        return None\n",
    "    else:\n",
    "        return None"
   ]
  },
  {
   "cell_type": "code",
   "execution_count": 45,
   "outputs": [
    {
     "data": {
      "text/plain": "[0,\n 0,\n 0,\n [[-6984268596351374285, '01011111111']],\n 0,\n 0,\n 0,\n [[-1384419812403679481, '01022222222']]]"
     },
     "execution_count": 45,
     "metadata": {},
     "output_type": "execute_result"
    }
   ],
   "source": [
    "save_data('Db','01011111111')\n",
    "save_data('Data','01022222222')\n",
    "\n",
    "read_data('Db')\n",
    "\n",
    "hash_table"
   ],
   "metadata": {
    "collapsed": false,
    "pycharm": {
     "name": "#%%\n"
    }
   }
  },
  {
   "cell_type": "code",
   "execution_count": 28,
   "metadata": {},
   "outputs": [],
   "source": [
    "# Linear Probing 기법 (Close Hahsing)\n",
    "hash_table = list([ 0 for i in range(8)])\n",
    "def save_data(data,value):\n",
    "    index_key = get_key(data)\n",
    "    hash_address = hash_function(index_key)\n",
    "    if hash_table[hash_address] != 0:\n",
    "        for index in range(hash_address,len(hash_table)):\n",
    "            if hash_table[index] == 0:\n",
    "                hash_table[index] = [index_key,value]\n",
    "                return\n",
    "            elif hash_table[index][0] == index_key: # 만약 동일한 키가 있는데, 값이 다를 경우, 업데이트 구문\n",
    "                hash_table[index][1] = value\n",
    "                return\n",
    "    else:\n",
    "        hash_table[hash_address] = [[index_key,value]]\n",
    "\n",
    "def read_data(data):\n",
    "    index_key = get_key(data)\n",
    "    hash_address = hash_function(index_key)\n",
    "    if hash_table[hash_address] != 0:\n",
    "        for index in range(hash_address,len(hash_table)):\n",
    "            if hash_table == 0:\n",
    "                return None\n",
    "            elif hash_table[index][0] == index_key:\n",
    "                return hash_table[index][1]"
   ]
  },
  {
   "cell_type": "markdown",
   "metadata": {
    "pycharm": {
     "name": "#%% md\n"
    }
   },
   "source": [
    "## 트리\n",
    "\n",
    "1. 트리(Tree) 구조\n",
    "    - 트리 : Node와 Branch를 이용해서, 사이클을 이루지 않도록 구성한 데이터구조\n",
    "    - 자주 사용되는 트리\n",
    "        - 이진 트리 형태의 구조로 탐색 알고리즘 구현을 위해 많이 사용됨\n",
    "2. 용어\n",
    "    - Node : 트리에서 데이터를 저장하는 기본 요소(다른 연결된 노드에 대한 Branch 정보 포함)\n",
    "    - Root Node : 최상단 노드\n",
    "    - Level : 최상단 노드를 Level 0으로 하였을때, 하위 Branch로 연결된 노드의 깊이를 나타냄\n",
    "    - Parent Node : 어떤 노드의 상위에 연결된 노드\n",
    "    - Child Node: 어떤 노드의 하위에 연결된 노드\n",
    "    - Leaf Node(Terminal Node) : Child Node가 하나도 없는 노드\n",
    "    - Sibling (Brother Node) : 동일한 Parent Node를 가진 노드\n",
    "\n",
    "3. 이진 트리와 이진 탐색 트리\n",
    "    - 이진 트리 : 노드의 최대 Branch가 2인 트리\n",
    "    - 이진 탐색 트리 (Binary Search Tree, BST): 이진 트리에 다음과 같은 추가적인 조건이 있는 트리\n",
    "    - 왼쪽 노드는 해당 노드보다 작은 값, 오른쪽 노드는 해당 노드보다 큰 값을 가지고 있음\n",
    "\n",
    "4. 자료 구조 이진 탐색 트리의 장점과 주요 용도\n",
    "    - 주요 용도: 데이터 검색(탐색)\n",
    "    - 장점 : 탐색 속도를 개선할 수 있음\n",
    "    - 단점 : 복잡함\n",
    "\n",
    "5. 이진 탐색 트리의 삭제\n",
    "    1. leaf node 일때\n",
    "        - 삭제할 Node의 Parent Node가 삭제할 Node를 가리키지 않도록 한다.\n",
    "    2. child node가 하나인 node 삭제\n",
    "        - 삭제할 Node의 Parent가 삭제할 Node의 Child Node를 가리키도록 한다.\n",
    "    3. child node가 두개인 node 삭제\n",
    "        1. 삭제할 Node의 오른쪽 자식 중, 가장 작은 값을 삭제할 Node의 Parent Node가 가리키도록 한다.\n",
    "        2. 삭제할 Node의 왼쪽 자식 중 가장 큰 값을 삭제할 Node의 Parent Node가 가리키도록 한다.\n",
    "          1. 삭제할 Node의 오른쪽 자식 선택\n",
    "          2. 오른쪽 자식의 가장 왼쪽에 있는 Node를 선택\n",
    "          3. 해당 Node를 삭제할 Node의 Parent Node의 왼쪽 Branch가 가리키게 함\n",
    "          4. 해당 Node의 왼쪽 Branch가 삭제할 Node의 왼쪽 Child Node를 가리키게 함\n",
    "          5. 해당 Node의 오른쪽 Branch가 삭제할 Node의 오른쪽 Child Node를 가리키게 함\n",
    "          6. 만약 해당 Node가 오른쪽 Child Node를 가지고 있었을 경우에는, 해당 Node의 본래 Parent Node의 왼쪽 Branch가 해당 오른쪽 Child Node를 가리키게 함\n",
    "6. 이진 탐색 트리의 시간 복잡도\n",
    "    - depth를 h라 표기하면  $$O(h)$$\n",
    "    - n개의 node를 가진다면  $$h = \\log_2 n$$에 가까우므로 시간복잡도는 $$O(\\log_2 n)$$"
   ]
  },
  {
   "cell_type": "code",
   "execution_count": 51,
   "metadata": {},
   "outputs": [],
   "source": [
    "# 노드 클래스\n",
    "\n",
    "class Node:\n",
    "    def __init__(self,value):\n",
    "        self.value = value\n",
    "        self.left = None\n",
    "        self.right = None\n",
    "\n",
    "class NodeManager:\n",
    "    def __init__(self,head):\n",
    "        self.head = head\n",
    "        self.current_node = None\n",
    "\n",
    "    def insert(self,value):\n",
    "        self.current_node = self.head\n",
    "        while True:\n",
    "            if value < self.current_node.value:\n",
    "                if self.current_node.left is not None:\n",
    "                    self.current_node = self.current_node.left\n",
    "                else:\n",
    "                    self.current_node.left = Node(value)\n",
    "                    break\n",
    "            else:\n",
    "                if self.current_node.right is not None:\n",
    "                    self.current_node = self.current_node.right\n",
    "                else:\n",
    "                    self.current_node.right = Node(value)\n",
    "                    break\n",
    "\n",
    "    def search(self,value):\n",
    "        while self.current_node:\n",
    "            if self.current_node.value == value:\n",
    "                return True\n",
    "            elif value < self.current_node.value:\n",
    "                self.current_node = self.current_node.left\n",
    "            else:\n",
    "                self.current_node = self.current_node.right\n",
    "        return False\n",
    "\n",
    "    def delete(self, value):\n",
    "        # 삭제할 노드 탐색\n",
    "        searched = False\n",
    "        self.current_node = self.head\n",
    "        self.parent = self.head\n",
    "        while self.current_node:\n",
    "            if self.current_node.value == value:\n",
    "                searched = True\n",
    "                break\n",
    "            elif value < self.current_node.value:\n",
    "                self.parent = self.current_node\n",
    "                self.current_node = self.current_node.left\n",
    "            else:\n",
    "                self.parent = self.current_node\n",
    "                self.current_node = self.current_node.right\n",
    "\n",
    "        if not searched:\n",
    "            return False\n",
    "\n",
    "        # Leaf 노드 일때\n",
    "        if  self.current_node.left is None and self.current_node.right is None:\n",
    "            if value < self.parent.value:\n",
    "                self.parent.left = None\n",
    "            else:\n",
    "                self.parent.right = None\n",
    "\n",
    "        # Child가 한개있을때\n",
    "        elif self.current_node.left is not None and self.current_node.right is None:\n",
    "            if value < self.parent.value:\n",
    "                self.parent.left = self.current_node.left\n",
    "            else:\n",
    "                self.parent.right = self.current_node.left\n",
    "        elif self.current_node.left is None and self.current_node.right is not None:\n",
    "            if value < self.parent.value:\n",
    "                self.parent.left = self.current_node.right\n",
    "            else:\n",
    "                self.parent.right = self.current_node.right\n",
    "\n",
    "        # Child가 두개 있을때\n",
    "        elif self.current_node.left is not None and self.current_node.right is not None:\n",
    "            # 삭제할 Node가 두개의 Child를 가직 있고, 삭제할 Node의 오른쪽에 없을떄\n",
    "            if value < self.parent.value:\n",
    "                self.change_node = self.current_node.right\n",
    "                self.change_node_parent = self.current_node.right\n",
    "                while self.change_node.left is not None:\n",
    "                    self.change_node_parent = self.change_node\n",
    "                    self.change_node = self.change_node.left\n",
    "                if self.change_node.right is not None:\n",
    "                    self.change_node_parent.left = self.change_node.right\n",
    "                else:\n",
    "                    self.change_node_parent.left = None\n",
    "                self.parent.left = self.change_node\n",
    "                self.change_node.right = self.current_node.right\n",
    "                self.change_node.left = self.change_node.left\n",
    "            # 삭제할 Node가 두개의 Child를 가직 있고, 삭제할 Node가 parent의 오른쪽에 있을때\n",
    "            else:\n",
    "                self.change_node = self.current_node.right\n",
    "                self.change_node_parent = self.current_node.right\n",
    "                while self.change_node.left is not None:\n",
    "                    self.change_node_parent = self.change_node\n",
    "                    self.change_node = self.change_node.left\n",
    "                if self.change_node.right is not None:\n",
    "                    self.change_node_parent.left = self.change_node.right\n",
    "                else:\n",
    "                    self.change_node_parent.left = None\n",
    "                self.parent.right = self.change_node\n",
    "                self.change_node.right = self.current_node.right\n",
    "                self.change_node.left = self.current_node.left\n",
    "\n",
    "        return True"
   ]
  },
  {
   "cell_type": "code",
   "execution_count": 55,
   "metadata": {},
   "outputs": [
    {
     "data": {
      "text/plain": "False"
     },
     "execution_count": 55,
     "metadata": {},
     "output_type": "execute_result"
    }
   ],
   "source": [
    "head = Node(1)\n",
    "BST = NodeManager(head)\n",
    "BST.insert(2)\n",
    "BST.search(5)\n"
   ]
  },
  {
   "cell_type": "code",
   "execution_count": 28,
   "outputs": [],
   "source": [],
   "metadata": {
    "collapsed": false,
    "pycharm": {
     "name": "#%%\n"
    }
   }
  },
  {
   "cell_type": "code",
   "execution_count": null,
   "outputs": [],
   "source": [],
   "metadata": {
    "collapsed": false,
    "pycharm": {
     "name": "#%%\n"
    }
   }
  }
 ],
 "metadata": {
  "kernelspec": {
   "display_name": "Python 3",
   "language": "python",
   "name": "python3"
  },
  "language_info": {
   "codemirror_mode": {
    "name": "ipython",
    "version": 3
   },
   "file_extension": ".py",
   "mimetype": "text/x-python",
   "name": "python",
   "nbconvert_exporter": "python",
   "pygments_lexer": "ipython3",
   "version": "3.8.3"
  }
 },
 "nbformat": 4,
 "nbformat_minor": 1
}