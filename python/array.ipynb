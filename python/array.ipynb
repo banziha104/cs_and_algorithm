{
 "cells": [
  {
   "cell_type": "markdown",
   "metadata": {
    "pycharm": {
     "name": "#%% md\n"
    }
   },
   "source": [
    "## 링크드 리스트"
   ]
  },
  {
   "cell_type": "code",
   "execution_count": 22,
   "metadata": {
    "pycharm": {
     "name": "#%%\n"
    }
   },
   "outputs": [],
   "source": [
    "class Node:\n",
    "    def __init__(self,data,next=None):\n",
    "        self.data = data\n",
    "        self.next = next\n",
    "\n",
    "class NodeManager:\n",
    "    def __init__(self,data):\n",
    "        self.head = Node(data)\n",
    "\n",
    "    def add(self,data):\n",
    "        if self.head == '':\n",
    "            self.head = Node(data)\n",
    "        else:\n",
    "            node = self.head\n",
    "            while node.next:\n",
    "                node = node.next\n",
    "            node.next = Node(data)\n",
    "\n",
    "    def delete(self,data):\n",
    "        if self.head == '':\n",
    "            print(\"빈 리스트\")\n",
    "            return\n",
    "        if self.head.data == data:\n",
    "            temp = self.head\n",
    "            self.head = self.head.next\n",
    "        else:\n",
    "            node = self.head\n",
    "            while node.next:\n",
    "                if node.next.data == data:\n",
    "                    temp = node.next\n",
    "                    node.next = node.next.next\n",
    "                    del temp\n",
    "                else:\n",
    "                    node = node.next\n",
    "\n",
    "    def desc(self): # 순회\n",
    "        node = self.head\n",
    "        while node:\n",
    "            print(node.data)\n",
    "            node = node.next\n"
   ]
  },
  {
   "cell_type": "code",
   "execution_count": 23,
   "metadata": {
    "pycharm": {
     "name": "#%%\n"
    }
   },
   "outputs": [
    {
     "name": "stdout",
     "output_type": "stream",
     "text": [
      "0\n",
      "0\n",
      "1\n",
      "2\n",
      "3\n",
      "4\n",
      "5\n",
      "6\n",
      "7\n",
      "8\n",
      "9\n"
     ]
    }
   ],
   "source": [
    "linked_list_1 = NodeManager(0)\n",
    "linked_list_1.desc()\n",
    "\n",
    "for data in range(1,10):\n",
    "    linked_list_1.add(data)\n",
    "\n",
    "linked_list_1.desc()"
   ]
  },
  {
   "cell_type": "code",
   "execution_count": 23,
   "metadata": {
    "pycharm": {
     "name": "#%%\n"
    }
   },
   "outputs": [],
   "source": []
  },
  {
   "cell_type": "code",
   "execution_count": 24,
   "metadata": {
    "pycharm": {
     "name": "#%%\n"
    }
   },
   "outputs": [
    {
     "name": "stdout",
     "output_type": "stream",
     "text": [
      "0\n",
      "1\n",
      "3\n",
      "4\n",
      "5\n",
      "6\n",
      "7\n",
      "8\n",
      "9\n"
     ]
    }
   ],
   "source": [
    "linked_list_1.delete(2)\n",
    "linked_list_1.desc()"
   ]
  },
  {
   "cell_type": "markdown",
   "metadata": {
    "pycharm": {
     "name": "#%% md\n"
    }
   },
   "source": [
    "### 해쉬테이블\n",
    "\n",
    "- 해쉬 : 임의 값을 고정 길이로 변환하는것\n",
    "- 해쉬 테이블 : 키 값의 연산에 의해 직접 접근이 가능한 데이터 구조\n",
    "- 해싱함수 : Key에 대해 산술 연산을 이용해 데이터의 위치를 찾는 함수\n",
    "- 해쉬값, 해쉬주소 : Key를 해싱함수로 연산해서 해쉬값을 알아내고 이를 기반으로 해쉬테이블에서 해당 Key에 대한 데이터 위치를 일관성 있게 찾을 수 있음.\n",
    "- 슬롯 : 한 개의 데이터를 저장할 수 있는 공간\n",
    "\n",
    "#### 해쉬테이블 충돌 해결 알고리즘\n",
    "\n",
    "- Chaining 기법 \n",
    "    - 개방 해슁 또는 Open Hashing 기법 중 하나: 해쉬 테이블 저장공간 외의 공가늘 활용하는 기법\n",
    "    - 충돌이 일어나면, 링크드 리스트라는 자료구조를 사용해서 링크드 리스트로 데이터를 추가로 뒤에 연결시켜서 저장하는 기법\n",
    "- Linear Probing 기법\n",
    "    - 폐쇄 해슁 또는 Close Hashing 기법 : 해쉬 테이블 저장공간 안에서 충돌 문제를 해결하는 기법\n",
    "    - 충돌이 일어나면 해당 hash_address 안에 다음에 빈 공간에 저장 \n",
    "\n",
    "#### 해쉬 함수와 키 생성 함수\n",
    "- 파이썬의 hash() 함수는 실행할때 마다 값이 달라질 수 있음\n",
    "- 유명한 해쉬 알고리즘 SHA(Secure Hash Algorithm, 안전한 해시 알고리즘)\n",
    "    - 어떤 데이터도 유일한 고정된 크기의 고정값을 리턴해주므로, 해쉬 함수로 유용하게 활용 가능\n",
    "    - SHA-1\n",
    "    - SHA-256\n",
    "\n",
    "#### 시간 복잡도\n",
    "- 일반적인 경우(충돌이 없는 경우)는 O(1)\n",
    "- 최악의 경우(충돌이 모두 발생하는 경우)는 O(n)"
   ]
  },
  {
   "cell_type": "code",
   "execution_count": 25,
   "metadata": {
    "pycharm": {
     "name": "#%%\n"
    }
   },
   "outputs": [
    {
     "data": {
      "text/plain": "'01011111111'"
     },
     "execution_count": 25,
     "metadata": {},
     "output_type": "execute_result"
    }
   ],
   "source": [
    "# 해시 테이블 생성 \n",
    "hash_table = list([ 0 for i in range(10)])\n",
    "hash_table\n",
    "\n",
    "# 해시 함수 생성 (Division 기법)\n",
    "def hash_func(key):\n",
    "    return key % 5\n",
    "\n",
    "\n",
    "# 데이터를 저장하는 함수\n",
    "def storage_data(data,value):   \n",
    "    # ord() : 문자의 아스키 코드를 리턴\n",
    "    key = ord(data[0])\n",
    "    hash_address = hash_func(key)\n",
    "    hash_table[hash_address] = value\n",
    "    \n",
    "# 데이터를 가져오는 함수\n",
    "\n",
    "def get_data(data):\n",
    "    key = ord(data[0])\n",
    "    hash_address = hash_func(key)\n",
    "    return hash_table[hash_address]\n",
    "    \n",
    "data1 = 'Andy'\n",
    "data2 = 'Dave'\n",
    "data3 = 'Trump'\n",
    "\n",
    "storage_data('Andy','01011111111')\n",
    "storage_data('Dave','01022222222')\n",
    "storage_data('Trump','01033333333')\n",
    "\n",
    "\n",
    "get_data('Andy')\n"
   ]
  },
  {
   "cell_type": "code",
   "execution_count": 37,
   "metadata": {
    "pycharm": {
     "name": "#%%\n"
    }
   },
   "outputs": [],
   "source": [
    "hash_table = list([ 0 for i in range(8)])\n",
    "def get_key(data):\n",
    "    return hash(data)\n",
    "\n",
    "def hash_function(key):\n",
    "    return key % 8\n",
    "\n",
    "def save_data(data,value):\n",
    "    hash_address = hash_function(get_key(data))\n",
    "    hash_table[hash_address] = value\n",
    "\n",
    "def read_data(data):\n",
    "    hash_address = hash_function(get_key(data))\n",
    "    return hash_table[hash_address]\n",
    "\n",
    "save_data('Andy','01011111111')\n",
    "save_data('Dave','01022222222')\n",
    "save_data('Trump','01033333333')\n",
    "\n",
    "read_data('Dave')\n",
    "    "
   ]
  },
  {
   "cell_type": "code",
   "execution_count": 44,
   "metadata": {},
   "outputs": [],
   "source": [
    "# Chaining 기법을 이용해 충돌 해결 (Open Hashing)\n",
    "\n",
    "hash_table = list([ 0 for i in range(8)])\n",
    "def save_data(data,value):\n",
    "    index_key = get_key(data)\n",
    "    hash_address = hash_function(index_key)\n",
    "    if hash_table[hash_address] != 0:\n",
    "        for index in range(len(hash_table[hash_address])):\n",
    "            if hash_table[hash_address][index][0] == index_key:\n",
    "                hash_table[hash_address][index][1] = value\n",
    "                return\n",
    "        hash_table[hash_address].append([index_key,value])\n",
    "    else:\n",
    "        hash_table[hash_address] = [[index_key,value]]\n",
    "\n",
    "def read_data(data):\n",
    "    index_key = get_key(data)\n",
    "    hash_address = hash_function(index_key)\n",
    "    if hash_table [hash_address] != 0:\n",
    "        for index in range(len(hash_table[hash_address])):\n",
    "            if hash_table[hash_address][index][0] == index_key:\n",
    "                return hash_table[hash_address][index][1]\n",
    "        return None\n",
    "    else:\n",
    "        return None"
   ]
  },
  {
   "cell_type": "code",
   "execution_count": 45,
   "outputs": [
    {
     "data": {
      "text/plain": "[0,\n 0,\n 0,\n [[-6984268596351374285, '01011111111']],\n 0,\n 0,\n 0,\n [[-1384419812403679481, '01022222222']]]"
     },
     "execution_count": 45,
     "metadata": {},
     "output_type": "execute_result"
    }
   ],
   "source": [
    "save_data('Db','01011111111')\n",
    "save_data('Data','01022222222')\n",
    "\n",
    "read_data('Db')\n",
    "\n",
    "hash_table"
   ],
   "metadata": {
    "collapsed": false,
    "pycharm": {
     "name": "#%%\n"
    }
   }
  },
  {
   "cell_type": "code",
   "execution_count": 28,
   "metadata": {},
   "outputs": [],
   "source": [
    "# Linear Probing 기법 (Close Hahsing)\n",
    "hash_table = list([ 0 for i in range(8)])\n",
    "def save_data(data,value):\n",
    "    index_key = get_key(data)\n",
    "    hash_address = hash_function(index_key)\n",
    "    if hash_table[hash_address] != 0:\n",
    "        for index in range(hash_address,len(hash_table)):\n",
    "            if hash_table[index] == 0:\n",
    "                hash_table[index] = [index_key,value]\n",
    "                return\n",
    "            elif hash_table[index][0] == index_key: # 만약 동일한 키가 있는데, 값이 다를 경우, 업데이트 구문\n",
    "                hash_table[index][1] = value\n",
    "                return\n",
    "    else:\n",
    "        hash_table[hash_address] = [[index_key,value]]\n",
    "\n",
    "def read_data(data):\n",
    "    index_key = get_key(data)\n",
    "    hash_address = hash_function(index_key)\n",
    "    if hash_table[hash_address] != 0:\n",
    "        for index in range(hash_address,len(hash_table)):\n",
    "            if hash_table == 0:\n",
    "                return None\n",
    "            elif hash_table[index][0] == index_key:\n",
    "                return hash_table[index][1]"
   ]
  },
  {
   "cell_type": "code",
   "execution_count": 28,
   "metadata": {},
   "outputs": [],
   "source": []
  },
  {
   "cell_type": "code",
   "execution_count": 28,
   "metadata": {},
   "outputs": [],
   "source": []
  },
  {
   "cell_type": "code",
   "execution_count": 28,
   "metadata": {},
   "outputs": [],
   "source": []
  },
  {
   "cell_type": "code",
   "execution_count": 28,
   "outputs": [],
   "source": [],
   "metadata": {
    "collapsed": false,
    "pycharm": {
     "name": "#%%\n"
    }
   }
  },
  {
   "cell_type": "code",
   "execution_count": null,
   "outputs": [],
   "source": [],
   "metadata": {
    "collapsed": false,
    "pycharm": {
     "name": "#%%\n"
    }
   }
  }
 ],
 "metadata": {
  "kernelspec": {
   "display_name": "Python 3",
   "language": "python",
   "name": "python3"
  },
  "language_info": {
   "codemirror_mode": {
    "name": "ipython",
    "version": 3
   },
   "file_extension": ".py",
   "mimetype": "text/x-python",
   "name": "python",
   "nbconvert_exporter": "python",
   "pygments_lexer": "ipython3",
   "version": "3.8.3"
  }
 },
 "nbformat": 4,
 "nbformat_minor": 1
}