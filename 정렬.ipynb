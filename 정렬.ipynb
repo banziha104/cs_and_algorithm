{
 "cells": [
  {
   "cell_type": "markdown",
   "metadata": {
    "collapsed": true,
    "pycharm": {
     "name": "#%% md\n"
    }
   },
   "source": [
    "## 버블 정렬\n",
    "\n",
    "- 인접한 요소와 지속적으로 비교\n",
    "- 반복문이 두 개 $O(n^2)$\n",
    "  - 최악의 경우, $\\frac { n * (n - 1)}{ 2 }$\n",
    "- 완전 정렬이 되어 있는 상태라면 최선은 O(n)"
   ],
   "outputs": [],
   "execution_count": 1
  },
  {
   "cell_type": "code",
   "execution_count": 3,
   "outputs": [
    {
     "data": {
      "text/plain": "[1,\n 2,\n 3,\n 5,\n 8,\n 9,\n 10,\n 12,\n 13,\n 14,\n 15,\n 16,\n 19,\n 20,\n 22,\n 24,\n 25,\n 27,\n 32,\n 33,\n 36,\n 37,\n 40,\n 43,\n 44,\n 45,\n 46,\n 47,\n 48,\n 51,\n 53,\n 57,\n 58,\n 63,\n 64,\n 65,\n 68,\n 70,\n 73,\n 75,\n 76,\n 77,\n 78,\n 83,\n 86,\n 89,\n 90,\n 97,\n 98,\n 99]"
     },
     "execution_count": 3,
     "metadata": {},
     "output_type": "execute_result"
    }
   ],
   "source": [
    "import random\n",
    "\n",
    "data_list = random.sample(range(100),50)\n",
    "\n",
    "def bubble_sort(data):\n",
    "    for index in range(len(data)-1):\n",
    "        swap = False\n",
    "        for index2 in range(len(data) - index -1):\n",
    "            if data[index2] > data[index2 +1]:\n",
    "                data[index2],data[index2 +1] = data[index2 +1], data[index2]\n",
    "                swap = True\n",
    "        if not swap:\n",
    "            break\n",
    "\n",
    "\n",
    "bubble_sort(data_list)\n",
    "data_list"
   ],
   "metadata": {
    "collapsed": false,
    "pycharm": {
     "name": "#%%\n"
    }
   }
  },
  {
   "cell_type": "markdown",
   "source": [
    "## 선택 정렬\n",
    "\n",
    "- 방법\n",
    "    1. 주어진 데이터 중, 최솟값을 찾음\n",
    "    2. 해당 최소값을 데이터 맨 앞에 위치한 값과 교체\n",
    "    3. 맨 앞의 위치를 뺀 나머지 데이터를 동일한 방법으로 반복\n",
    "- 시간복잡도\n",
    "    - 반복문이 두개임으로 $O(n^2)$\n",
    "        - 상세히 계산하면 $\\frac {n(n-1)}{2}$"
   ],
   "metadata": {
    "collapsed": false,
    "pycharm": {
     "name": "#%% md\n"
    }
   },
   "execution_count": 2
  },
  {
   "cell_type": "code",
   "execution_count": 4,
   "outputs": [
    {
     "data": {
      "text/plain": "[0, 4, 39, 44, 47, 52, 66, 74, 92, 97]"
     },
     "execution_count": 4,
     "metadata": {},
     "output_type": "execute_result"
    }
   ],
   "source": [
    "data_list = random.sample(range(100),10)\n",
    "\n",
    "def selection_sort(data):\n",
    "    for stand in range(len(data)-1):\n",
    "        lowest = stand\n",
    "        for index in range(stand +1, len(data)):\n",
    "            if data[lowest] > data[index]:\n",
    "                lowest = index\n",
    "        data[lowest], data[stand] = data[stand], data[lowest]\n",
    "    return data\n",
    "\n",
    "selection_sort(data_list)"
   ],
   "metadata": {
    "collapsed": false,
    "pycharm": {
     "name": "#%%\n"
    }
   }
  },
  {
   "cell_type": "markdown",
   "source": [
    "## 삽입 정렬\n",
    "\n",
    "- 방법\n",
    "    - 삽입 정렬은 두 번째 인덱스부터 시작\n",
    "    - 해당 인덱스(key 값) 앞에 있는 데이터(B)부터 비교해서 key 값이 더 작으면, B값을 뒤 인덱스로 복사\n",
    "    - 이를 key 값이 더 큰 데이터를 만날때까지 반복, 그리고 큰 데이터를 만난 위치 바로 뒤에 key 값을 이동\n",
    "\n",
    "- 시간 복잡도\n",
    "    - 반복문이 두개임으로 $O(n^2)$\n",
    "        - 상세히 계산하면 $\\frac {n(n-1)}{2}$\n",
    "    - 최선의 경우 $O(n)$"
   ],
   "metadata": {
    "collapsed": false,
    "pycharm": {
     "name": "#%% md\n"
    }
   }
  },
  {
   "cell_type": "code",
   "execution_count": null,
   "outputs": [],
   "source": [
    "def insertion_sort(data):\n",
    "    for index in range(len(data) - 1):\n",
    "        for index2 in range(index + 1, 0, -1):\n",
    "            if data[index2] < data[index2 - 1]:\n",
    "                data[index2], data[index2 - 1] = data[index2 - 1], data[index2]\n",
    "            else:\n",
    "                break\n",
    "    return data"
   ],
   "metadata": {
    "collapsed": false,
    "pycharm": {
     "name": "#%%\n"
    }
   }
  },
  {
   "cell_type": "markdown",
   "source": [
    "## 퀵정렬\n",
    "\n",
    "- 기준점을 정해서 기준점보다 작은 데이터는 왼쪽, 큰데이터는 오른쪽으로 모으는 함수를 작성\n",
    "- 각 왼쪽, 오른쪽은 재귀용법을 사용해서 다시 동일함수를 호출하여 위 작업을 반복함\n",
    "- 함수는 왼쪽(left) + 기준점(pivot) + 오른쪽(right)를 리턴함\n",
    "    - 첫번쨰 피벗은 첫번째 인덱스를 기준\n",
    "- 시간복잡도는 $O(n \\log n)$\n",
    "- 최악의 경우 (맨 처음 pivot이 최대값이거나 최솟값인 경우) $O(n^2)$"
   ],
   "metadata": {
    "collapsed": false,
    "pycharm": {
     "name": "#%% md\n"
    }
   }
  },
  {
   "cell_type": "code",
   "execution_count": 9,
   "outputs": [
    {
     "data": {
      "text/plain": "[0, 7, 13, 17, 24, 27, 28, 30, 41, 51, 52, 58, 60, 63, 64, 80, 83, 86, 91, 96]"
     },
     "execution_count": 9,
     "metadata": {},
     "output_type": "execute_result"
    }
   ],
   "source": [
    "def qsort(data):\n",
    "    if len(data) <= 1:\n",
    "        return data\n",
    "    left,right = list(),list()\n",
    "    pivot = data[0]\n",
    "    for index in range(1,len(data)):\n",
    "        if pivot > data[index]:\n",
    "            left.append(data[index])\n",
    "        else:\n",
    "            right.append(data[index])\n",
    "    return qsort(left) + [pivot] + qsort(right)\n",
    "# list compreshion\n",
    "def qsort_com(data):\n",
    "    if len(data) <= 1:\n",
    "        return data\n",
    "    pivot = data[0]\n",
    "    left = [item for item in data if pivot > item]\n",
    "    right = [item for item in data if pivot < item]\n",
    "    return qsort(left) + [pivot] + qsort(right)\n",
    "qsort_com(random.sample(range(100),20))"
   ],
   "metadata": {
    "collapsed": false,
    "pycharm": {
     "name": "#%%\n"
    }
   }
  },
  {
   "cell_type": "markdown",
   "source": [
    "## 병합 정렬 (merge sort)\n",
    "\n",
    "- 재귀용법을 활용한 정렬 알고리즘\n",
    "    - 리스트를 절반으로 잘라 비슷한 크기의 두분 리스트로 나눔\n",
    "    - 각 부분 리스트를 재귀적으로 합병 정렬을 이용해 정렬\n",
    "    - 두 부분 리스트를 다시 하나의 정렬된 리스트로 합병\n",
    "\n",
    "- 복잡도\n",
    "    - 각 단계 별로 $O(n)$\n",
    "    - 항상 $\\log_2 n$개 만큼 만들어짐. 시간 복잡도는 결국 $O(\\log n)$\n",
    "    - 따라서 단계 별 시간 복잡도는 $O(n \\log n)$"
   ],
   "metadata": {
    "collapsed": false,
    "pycharm": {
     "name": "#%% md\n"
    }
   }
  },
  {
   "cell_type": "code",
   "execution_count": 11,
   "outputs": [
    {
     "name": "stdout",
     "output_type": "stream",
     "text": [
      "[0, 1] [2, 3, 4]\n"
     ]
    }
   ],
   "source": [
    "def split(data):\n",
    "    medium = int(len(data) / 2)\n",
    "    left = data[:medium]\n",
    "    right = data[medium:]\n",
    "    print(left,right)\n",
    "\n",
    "def mergesplit(data):\n",
    "    medium = int(len(data) /2)\n",
    "    left = mergesplit(data[:medium])\n",
    "    right = mergesplit(data[medium:])\n",
    "    return merge(left,right)\n",
    "\n",
    "def merge(left,right):\n",
    "    merged = list()\n",
    "    left_point,right_point = 0,0\n",
    "\n",
    "    # left right 둘다 남아있을떄\n",
    "    while len(left) > left_point and len(right) > right_point:\n",
    "        if left[left_point] > right[right_point]:\n",
    "            merged.append(right[right_point])\n",
    "            right_point += 1\n",
    "        else:\n",
    "            merged.append(left[left_point])\n",
    "            left_point += 1\n",
    "    # left 만 남아있을때\n",
    "    while len(left) > left_point:\n",
    "        merged.append(left[left_point])\n",
    "        left_point += 1\n",
    "    # right 만 남아있을때\n",
    "    while len(right) > right_point:\n",
    "        merged.append(right[right_point])\n",
    "        right_point += 1\n",
    "    return merged\n",
    "data_list= [0,1,2,3]\n",
    "split(data_list)"
   ],
   "metadata": {
    "collapsed": false,
    "pycharm": {
     "name": "#%%\n"
    }
   }
  }
 ],
 "metadata": {
  "kernelspec": {
   "display_name": "Python 3",
   "language": "python",
   "name": "python3"
  },
  "language_info": {
   "codemirror_mode": {
    "name": "ipython",
    "version": 2
   },
   "file_extension": ".py",
   "mimetype": "text/x-python",
   "name": "python",
   "nbconvert_exporter": "python",
   "pygments_lexer": "ipython2",
   "version": "2.7.6"
  }
 },
 "nbformat": 4,
 "nbformat_minor": 0
}